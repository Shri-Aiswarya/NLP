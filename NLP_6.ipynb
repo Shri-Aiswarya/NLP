{
  "nbformat": 4,
  "nbformat_minor": 0,
  "metadata": {
    "colab": {
      "provenance": [],
      "authorship_tag": "ABX9TyOKRaW+8KDl1kqvYTwJMcZs",
      "include_colab_link": true
    },
    "kernelspec": {
      "name": "python3",
      "display_name": "Python 3"
    },
    "language_info": {
      "name": "python"
    }
  },
  "cells": [
    {
      "cell_type": "markdown",
      "metadata": {
        "id": "view-in-github",
        "colab_type": "text"
      },
      "source": [
        "<a href=\"https://colab.research.google.com/github/Shri-Aiswarya/NLP/blob/main/NLP_6.ipynb\" target=\"_parent\"><img src=\"https://colab.research.google.com/assets/colab-badge.svg\" alt=\"Open In Colab\"/></a>"
      ]
    },
    {
      "cell_type": "markdown",
      "source": [
        "Exercise 1. Text Generation\n",
        "\n",
        "• Install markovify\n",
        "\n",
        "• Import pandas and markovify\n",
        "\n",
        "• Load the file ‘abcnews-date-text.csc’ as ‘inp’\n",
        "\n",
        "• Look at the three top rows\n",
        "\n",
        "• Create a model with markovify as ‘text_model’ to generate text\n",
        "\n",
        "• Print ten randomly generated sentences using the built model."
      ],
      "metadata": {
        "id": "appgefcpIejF"
      }
    },
    {
      "cell_type": "code",
      "execution_count": 3,
      "metadata": {
        "colab": {
          "base_uri": "https://localhost:8080/"
        },
        "id": "riS1gx_FIO-x",
        "outputId": "8bbe16ac-e4f3-4293-ab2e-ddf3c57ac4bb"
      },
      "outputs": [
        {
          "output_type": "stream",
          "name": "stdout",
          "text": [
            "Requirement already satisfied: markovify in /usr/local/lib/python3.10/dist-packages (0.9.4)\n",
            "Requirement already satisfied: unidecode in /usr/local/lib/python3.10/dist-packages (from markovify) (1.3.8)\n",
            "   publish_date                                      headline_text\n",
            "0      20030219  aba decides against community broadcasting lic...\n",
            "1      20030219     act fire witnesses must be aware of defamation\n",
            "2      20030219     a g calls for infrastructure protection summit\n",
            "140000 without power for mars training lab. snowboarding injuries increase. south east nepal kills 2. bomb attacks injure 4 in hospital after shooting. pope urges conservatives to be broken. same sex marriage and indigenous battlecry. opposition criticises local government reform in 20 act drivers affected by credit card. medical marijuana law. nsw parliament full of praise for locals storm preparedness. probe continues into cut phone cable. proud apologetic after glassing incident. man to front court over girlfriends death. telstra continues battle for free deal extended as qld government plans to stop before. rescues under way on port road costs will be profitable again. explosion hits bus shelter. schumacher shrugs off criticism of possible. south melbourne target of extortion rape. bus deadlock. business confidence highest in county. nt jobless rate drops. mid west exploration. england out of full time jobs down casual jobs up. george joins aussie test team needs youth. thailand buries remaining victims of people with disabilities forced from homes. wales sweat on perez. marshall to make citrus canker outbreak inquiry continues. alice court facilities at cape woolamai. russian bus crashes into adelaide second round. australia donates to tsunami victims. flight centre unconcerned by cmc investigation. mayor unhappy with pm over. new arrest over intimidation allegations. another company raises doubts over. png protesters want coal conveyor through. landowners reject water trade in hobart. jackson bird ready to lift their game meninga. mayor wants youth crime efforts. nz poised for broncos debut. big surge in gas. applications roll in turnbull government reeling from horror start. bligh proposes more restrictions on fremantle port sale fail as aurora australis enters icy landscape. aurora australis crew narrowly avoid weigh in on asian growth. residents angry over inquiry impact. local groups take gunns fight to save music academy funding cut. villager explains why the. building watchdog row. high lead exposure in broken ankle case. audio problems delay drug committal hearing. japanese postal reform row makes mps see need for stimulus money spread across india over rape in melbourne for day one highlights. barca drops first home buyers cant find that samba rhythm. labor leadership talk ahead of election. welcomefest festival showcases life in detention. noroc chief keen for secret ballot. limited edition car valued at 1b. indonesia landslides death toll rises in regional wa. irc hears qantas drug testing laws proposal. gillespie clarke set to revitalise mount gambier. yuendemu grog story leads way. zaragoza eases relegation fears. tough lessons for younger workers not on the mend. iraqis challenge us air strike was revenge attack ends in frustration. closer magazine guilty over pilbara rail lines. take health away from cfmeu. ndis option for proposed brisbane melbourne rail death. public urged to recognise subprime crisis greenspan. jamie foxx firms as oscars host. act govt rejects indigenous art interest growing sothebys. indigenous owned stations. wallabies stay put economists say. mirvac profit surges despite petrol rate. corrigan due home tonight. young mother dies in hospital. chinese man sentenced to 20 years on. the drum tuesday april 26. tasmania now live news april 18. figures show chinas mine accidents worsening. financial adviser overhaul. paraglider survives 50 metre freestyle title. anti duck shooting season draws to a solar eclipse. hodgson off the field ed kavalee. youth workers blame liberal for attacks. irrigators back shift in sa. pm steers clear of turtle hatchings. qbe to buy capri hotel. council considers steel tree bushfire memorial. gp clinics a success. bleiberg resigns as chelsea pull clear. drought relief spending. sa job vacancies on the wrinkle free sheep. pakistan rail crossing boost. neville seeks public help. rolling stones fail to press on with lock out criminals. public submissions sought for stricken captain. betting cap bid fails. south korea agree to 600m health plan. primo gets record 183m report. knife bandit robs credit union. mining tax impacting super nest found residents warned. eu threatens to close lifespan. hidden christians mark christmas in 30 seconds. leave the industry. video of himself killing a mother and baby from burning house. farmers markets aid hip pockets tourism body. regions hospitals admitting ambulance patients. residents reject highway option. sacked wool workers confront bracks. world struggling to keep telstra jobs loss impact. healthwatch with sophie scott. help taxpayers buy homes ofarrell. henson avoids charges over car surfing death. perth scorchers live scores. abc news chief quits. murray irrigation allocations boosted. my electorate supports me hay. nato russia bury ghosts of the road women and men. myki data spill breaches privacy for millions in unclaimed super. power and promina. public servants mental health grounds. armstrong mail run. aussies out to sea head back to win in darwin. jamaican dance style dancehall hits australian market. westfield shares surge on takeover ruling. tourist dies while installing tv antenna. man faces court charged with gold coast nrl bid a 100k boost. nsw police win limits to new home. hobbit confirmed to start in canada. menzies celebrates milestone surgery. coffs clarence police say forest death suspicious. defending champ han in lpga event. work begins on world heritage listing. melbourne prepares for international archives day. petrol prices high at climate deal reached. nutcracker opens in melbourne. jim tilley hopes brexit could put donald trumps doctor has no desire to join opposition front bench. beerwah caboolture named growth hot spot. council to keep up with. rockhampton businesses doing it tough. heras loses out on mls title. big bonus from convention market. big players in. astronomers find suns twin. a team on ir. ice station book becomes live adelaide fringe 41 seconds suicide. admit women or lose student travel pass iemma warns. ellis backs trans tasman e. buddhist memorial garden in hobart town. bitcoin is having trouble. the wa treasurer privately backed mining tax. trishna and krishna go home. alleged salt creek trial summed up in euphoria as mubarak steps down. beattie unaware of kilmore fire prediction model analyst. charles parkinson talks to review opening prayer again. developers get planning priority. tasmanian rental availability falls. smaller harvest drags down exports. adani environment minister peter mckechnie. shot policemans family he had a history of bad weather. woman arrested over house smash. elderly man dies in se nsw residents overweight survey. alpha breaks atlantic balloon record. bush defines legacy. bush says hezbollah losers of the year. human bones tonga archaeology. worlds oldest dog dies. gracetown expansion plans po. india unveils climate change adapatable crops. world leaders attend christmas mass since islamic state. tennis match reported as obasanjo leads polling. tourism industry booms is australia missing out by england old guard. landowners get locust lowdown. latham lays leak blame on macquarie island. douglas mawson tony fleming. earth sized planets orbiting nearby star discovered. socceroos to asian cup tilt.\n",
            "2015 afl season preview hawthorn. afl season preview sydney v western force coach agrees to radical clerics. animals great and awful leaders. brisbane roar release captain matt smith to punter were proud to be rebuilt. martial arts spar with golf course spray. victorian country hour 2 september 2015. nsw rain welcomed in sydney. should you quit sugar. clive palmers coolum resort lists villas on airbnb. royal commission destroyed. dozens dead in sa ambulance assesses elderly call for plan to boost hockey facilities. mp attacks union presence. eagles uncertain if bashed teenager sexually. police urged to help meet export milk. wa outpaces other states to work with princes hwy blueprint. oman face daunting challenge. online enrolment to attract skilled workers shortage. nsw police detectives in 2016. construction unions using bikies as hired muscle victoria police. interview: richard gingras; google vice president. bird flu case. sport and theatre collide as children crushed. aboriginal only schools not as bad. summernats organisers defend tailored testing. nick philippoussis pleads not guilty over abc learning appoints administrators. set aside for climate change debate turnbulls opening address. foreign affairs minister. school group affected by suicide story. abc politics blog live may 30. the promise of fishing industry challenged. cattle numbers down despite ablett debut. chasing the buzz. rogers leads vics chase. roxon urges calm amid force recruitment raids. kerin calls for investigation into sick cyclist. do your bit to address lack of parent. sydney armenians protest journalists murder. todd river flows warning system to address rural doctor. a week for democrats senator. beckham nativity scene ban. government opposition agree on family reunion talks. daly continues to lag household debt figures. turning off life support turned off. homeless support nears 50pc. chinese ny celebrations kick off labors election. bolton targets 300 afl games. sydney rail patronage to double number of food aid. finance preview rba on hold as western sydney grills political leaders. israel prisoner release deal for australian water infrastructure upgrades waste of time. david douglas duncan world war three. university western sydney wanderers newcastle jets top of the cave. wild horses of the nsw country hour eats its greens. court clears ex griffith mayor. jail suspended over rape 11 years ago. no official winner yet in sewerage system fix before. council up beat about buchanan park work. accident sparks call for kids advertisement. tropical cyclone blanche heads for china. southern stars keep bowl defence alive. south australia border collie gathering fundraising effort. border collies gather in sydney rail deal delays threaten tas industry. woman dies in hospital. beckhams milan move falls through. xavier college mentioned on facebook for mykonos victim. fueltrac predicts drop in crime. coastal towns drying up in apartment after two die in gold coast to help new parents cope. prosecution opens case in front of children. mp fears goulburn valley fromelles soldier laid to rest. eurobodalla farmers oppose nsw fee increases under scrutiny. barca to go home. lucas celebrates mri milestone. magpies ace test in kalgoorlie. govt moves to amend truth legislation amendments. us media viewed the third ashes test. australian investors hit by two year high. australia batsmen wilt in intra club competition. pipe bomb explosion on a range of. ballerina sacked for looking up at margaret river. sent regs cant get speech pathology. broadwater parklands development on aboriginal land claim for gold. stockdale wont stop rates collusion. accused murderer denies killing afghan civilians. us conducting thorough investigation of lebanon. businesses learn more about you more. husband wife save each others promises too dear. police lay charges over bank heists. page mp takes aim at top end skies. more doctors nurses. angry investors dump amp after ceos dire forecast. ipswich wins east coast resort to go to bypass. more money for mining boom. flying nasa to launch immediate paedophile. opposition questions qasim release. over 200 charges in winegate affair. no politics in music. gerard brody speaks to the economy. govt reform drives youth tafe program. govt withholds keelty clarification documents. grafton businessman killed in highway crash. maroons on the line. face shields needed for ipswich shooter. police investigate fatal boat accident victim. youths wanted over stabbing murder. former tv host targeted in witchcraft killings. alice patrols beginning. alice robbery spree. police say more solutions needed to close emergency help who to blame. wang liqiang convicted fraudster says chinese expert. world anti doping hysteria. powell begins talks on f1 future. student dies in melbourne cbd lies forgotten. game of thrones foxtel blames system for disaster hit tourism. funds pulled from rubble. residents say goodbye asbestos ridden homes. holden gun tractor joins national fight against cattle tick. dead by police. china aims to cut branches in darwin mall. treading the boards. police protesters clash with gilly hussey. qld govt considers chaffey dam funds to help coalition woo queensland. kim increases lead in music film laggards in media conference. watch nasas latest mars briefing. west coast eagles coach afl. agreement speed up work bans. enron ex chief minister michael gunner financial crisis driving down over security risk. cop 25 : un seceratry general opens summit with kim jong uns sister heads to north korea tells south. blix not confident of second test in darwin. industry backs lifejacket study. former bishop newell. rick thorburns guilty plea to extend desal response deadline. grave fears for missing man. climate adaptation. club welcomes racing industry pleads. general signals iraq mission not affected by us crisis. cruise jets into gulf of carpentaria. former nz minister dumped over abuse claims. prosecutors seek to learn from q fever vaccine. dan canta youngest australian male to face roddick at kooyong. sutherland stands by buckley absence. lime mining job vacancies. search on for man responsible for ta. farmers and charities. miners join worlds largest solar city. aust india saga takes new approach to work. perth based investors are buying. china tasmanian mountain hut preservation society turns thirty. tasmanias first keyhole dog patient simba. tasmania water storage levels. hunter thoroughbreds may fetch up to 18600 troops for iraq. scott chases major boost for. friends of justine damond removed. why petrol is cheap macgill tells england. commandos body arrives in saudi royal theft. political billboard reaches end at magic millions. water usage signs to boost profits. almost 50 killed in central iraq. thumbs up from f1s main men. bali bombers to be included in soil near dam identified. skills base to up household finances. haiti deadline extended. a wet winter. alabama pipeline explosion closes iraqi oil ministry kills 10. injured abseiler rescued in chile. flash flooding near silverton. funeral insurer blasted at the disco. virgin not ruling out mothballed mine are not an option. shares post biggest fall since september. utas training for firefighters. winds fuel bushfire concerns. woman accused of killing 65 people in. man found by police ruled inadmissable. facebook reaches 500 million to one month. lachlan valley irrigators. mitchell plays down suggestions of tas industrial. pre poll violence leaves 200 dead in horror collision. ongoing aerial support for basin plan. woman found dead in somalia artillery fire.\n",
            "50 cent by magistrate. trump says meeting putin will be scared airline says. lion air crash reaction. govt urged to detail water policies. witnesses sought to capture dabiq from is. person flees burning geraldton home. farmers want clearing laws share in. wild weather lash through parts of victoria. priest trial lismore. kanye west releases song defending his support behind rees leadership. rookies happy with delay to secure title as leicester stuns boks. us grieves after two months adrift. parliament set to swarm again. man arrested over theft of grinch from dr seuss stars on chinese finance. foundation to teach children water value. gronholm leads rally of mexico. owner may be behind house fire. ex cop over wadeye comments. dont let aussie outback for the worse. wa government lurches from crisis to trigger volcanic eruptions. gold coast canal. cassowary council holds first regional wa. feedback sought on bay of fires in warnbro and jane brook. former airline manager charged with murdering canberra man shoots alzheimers sufferer wife. milan held by canberra light rail months behind schedule. the woman behind jacindamania in new york. proposed funding snub scandalous. johnson likes the look out for 244 rain stops lee's record quest. roddick warms up us balloonists bodies. treasurer rejects quick cash fix for roundabout black spot. carle signs with bullets. an update on. singles day alibaba china shopping centre to help widows. in form tigers. england bring in elliott. rowell the motherhood choice. ruralqchmsf sugar marketing. ice cube defends move to block chris rock vows to fight hindu demon in indian. search continues for miriam vale mayor better in iraq bombings.\n",
            "80 former un chief condemns both sides urging banks to share schedules. qantas changes seen for two years in prayer.\n",
            "64yr old charged with 32 6 win at bordeaux. man dead after huge heroin haul. rain not enough industry says. hawks humble bulldogs. hodgson eager for china flooding leaves 16m damage bill for government action lifeline says. afl set to make houses more energy. eu under new plan. fact check gambling jobs tasmania. father of missing sa fisherman land shark of the times they are sick of deadline changes. court fines failed psychologist. court rules wilderness society ordered to pay. premier peter beattie retires. qld sets up williams final against david gillespie. people with disabilities explore the world rankings. israel jails two syrians over drowning of disabled adults. twins fight for funds. canberra facing severe water shortages. serbian president survives taliban attack. afghan govt control. talks aim to demystify drought aid. toilet man a generous dollop of country. qld govt about economy after rain. slow race drama develops off kimberley coast. last years pm. toddler responding to weekend detention for child sex case appeals. planning continues for missing satellite. cancer patient oshin kiszko court to rule out ir tweaks. contador sends schleck warning. defeat pales to docs heart attack behind fatal car crash.\n",
            "10 more years. earthquake rattles south west landowners. teen facing court claim. rain brings relief to australians. bin ladens death a murder. shock jocks grab the marginal seats. election live friday july 13. geraldton service to take part in mass. unions warned against using copi hollow remembered fondly as its future in hands of dozen mps. fact check nz immigration dept. brisbane trade mission to far west. eels too slippery for struggling mcgee. nalbandian upsets federer. naracoorte obstetricians back in prison official.\n",
            "150m bridge plan to cut 1400 jobs. four charged over esperance burglaries. telstra to re open by. towong turf club retires. cfmeu bid for solar panels in schools. nt bodies find sparks flutter of excitement. global warming bin. interview alan tongue. interview ange postecoglou. treasure trove tracking down their defence medals. womens wall in facebook photo. no end in days before. qna: are tough enough on crisis turnbull. russia greets obama with first drop. water restrictions lifted in aceh. free trade deal. tuesday markets with fiona clark. wentworth by election kerryn phelps wins it for boomer. katter open to limited us aid. bus plunges into ravine in. australia heatwave sets hottest day in darwin. four people nominated murdoch as suspect package scare. plans to extend northparkes mine life. study find creatine levels could shrink habitat of endangered tree kangaroo. peter dutton. new arrivals say. deadly explosions rock giant indonesian mine. larry relief effort ramps up. troops increase patrols in palmerston. hewitt gives up crown. base jumper may face discharge in drugs bust.\n",
            "12 year old slam poetry champion. meet the mutants on the road. illegal liquor business arrest. inflation figure push the button; even if it wins government at election. lachlan smart becomes youngest australian male to face court for media in battle of rooty hill. one plus one: kevin rudd. clean seas reveals 34m loss. clubs delay pokies trial until after council dismissal. business leaders to front court. drug grower just watered the plants. drunken violence on the mend after shooting. wa coles accused of ignoring indigenous health. cigarette tax hike plan. shane watson joins ipls bangalore for 1.98 million. south african win. bond actor praised for cannabis addiction. betroffenheit plunges depths of psychosis researchers. ca praises geelong twenty20 bid. car fires across southern california. bush pushes to stamp its mark. taliban leader death names new non parole. cook fires england to show jets no mercy. brain damage study. snowtown jury to consider stripping zidane of golden citys. icac to debate abcc and registered organisation bills. shark sightings not a federal decision science office. mines crush boulder to host national champs. obama city gripped by drought. adelaide groom in high definition. new english requirements mean safer workplaces. new emergency service workers. new transmitter aids digital tv channel slated for mid west iron project needs funds. robertson trumpets elective surgery claims. doubts raised over weekend assaults. short notice mh370 final report. england players moved by plight of koalas says minister. new cancer treatment unproven. reserve bank minutes lead to leak. words cheap says child abuse royal commission says refugee. malaysia refugee deal encouraging. union fights shift cuts. melbourne bound no neymar for argentina friendly. roo knocks solberg out of queens. network optimistic doctor will be in afghanistan critical of delayed flexibus defended. concerns raised over aged care residents face outdoor water ban respite. fish kill in cairns. kevin reynolds says gorgon workers are. the mix saturday july 12. three dead in cairo fire. mobile phone at 167 kph. profit results please community telco. qld election announcement. sri lanka vs england day two summary. bookie fight to keep kids on body find. police set houses alight in. helen levina accused murder case adjourned. inquest resumes 30 years for repeated sex with dead victims. man taken to hospital for jail. plans afoot for richmond council. regional etsa customers urged to be finalised. call to end relationship before stabbing. post war talks begin on indigenous land corp. heritage pig breeds growing in queensland prisons needs rethink union says. hih opener. home owners grant. trade a little girl. tasmanian grown rhubarb in demand for personal credit rises. distressed jetstar passenger delays virgin blue fuel surcharge. rain helps murray river salinity. no need for police dna databases golden state warriors set solid 263. wa mindarie. warrens cotton cup set to continue for luther king. us renews blackwater iraq contract. wheeler takes silver in dubai. one killed in boat crash. aussies toil for key stretch. kylie struts it with army chief. new laws to fight jail terms for police station. rspca animals australia see in the simpson desert roads open after johnson mcdonald strike. pulitzer winner shepard arrested. pulp mill but. gynaecologist guilty of atsic demise. solomons prison disturbance prompts review call. level crossing safety. wa air pollution monitoring. council sees red over eu bugging. police search for missing swimmer. seven charged over separate stabbings. mental illness emerges in delhi. thurston scratched from derby. shocking result unveils genuine cup chance. receivers move in front in central china. farmer misses a second cbd. treating sex infections doubles in size. nsw labor bracing for suspension of centrelink details may slow climate change team. off duty incident. police renew plea for dog. croc caught near crash death toll passes 2007 mark. edington smashes seebohms backstroke mark. perus president appoints carlo cottarelli as prime mi. civic blaze deliberately lit. demolition company fined over port job cuts. unions seek explanation of uk town warned over weapons intelligence. us congress to probe iraq war justified pm maintains. kewell confirms galatasaray switch. new bat colony. cane toad survey. warne record bid for murray diocese bishop. coal reuse stanwell corporation. corey bernadi vows to avenge 1994 final defeat. strike halts geelong line services. vodka war divides europe. wall street tumble. bankers at goldman sachs flags big job losses at historic tannery. kemble to take part in waratahs trial. beale rested for second cyclone threatens whitsundays. cyclone threat passes. atf they said it. tony mokbel in custody concerns. decision looms on alice cbd vandalism. police praised for t20 showpiece. afghan offensive hailed a success. williams unveil ferrari beater. zambian court stays suspension of ross lyon talks about the. high school blaze. artist brings cunnamulla fella art competition. ex gas works site to right comm games tri team. harrop named in cup draw. tech stocks trade war. seven west media rebounds. mount druitts home and bupa. elderly person critically injured in jumping castle mishap. singapore australia to drop tugun bypass impact. gunmen kill public official accused of traffic rampage. driver acquitted in landmark us case. students petition for royal perth hospital. compulsory third party deals. nsw govt playing callous games with disability funding. govt begins hard sell in tamworth. good ones a dead language. law society objects to un budget. vigilante crowd funding to seniors scud says woodbridge. stoner tours armidale hospital. stubble fire power costs. group tries to halt market fall. communities celebrate q150 trains arrival. consistent product focus of crean challenge. bega hospital conditions. union warns of more burglaries. positive job outlook for sheep genetics. time stands still for sale; for now. england unchanged for twenty20 series. international police search home of a job in fa shake down. nz tourist killed in ambush. time running out in style. gerrard gives liverpool league cup. govt aims to save rare eucalypt. bruce simpson lifetime drover receives oam. top cop says sick leave affecting police numbers. nt govt cant handle enrichment nt govt. dees remain upbeat. democrats seek stricter regulations set to announce candidacy german elections stability buoying angela merkel hold it together. carbon price on a carbon tax delay not embarrassing dan tehan advises on. victorian politics in putting america first; trump says. islamic group killed sources say. bangladesh v australia heat an issue obama. riot police arrest mourners at teens funeral. police to fight for justice. tas farmer unlocks truffle growing secret. tax fraud sackings. nursing federation welcomes carbon draft. faulty stem cells the solution council says. sa leadfoots snapped over speed camera use. violent sydney protest. old varieties on display. underbelly scribes nominated for heritage listing. cardinal praises controversial film. australias jobless rate falls slightly. brough defends teen at stepdads request. man jailed for punching 4 year old raises $3000 for books.\n",
            "16yo boy critical after suffering heart attack. mcewen wins battle in west. italys trapattoni in a week of spectacular sunrises. tafe use of senate spots confirmed. no icu for modbury hospital takeover plan. act a day with new look england down fighting to retain funds for cyclone daryl. qld continues search for missing people found. more crisis support despit. wolf blass winery to do if you find bones in bed. michael wong neurosurgeon stabbing hospital i was unfaithful to posh says beckham. iran declares three days of action. rugby ref obrien blows full time riot squad on a positive off leash attacks. home affairs insider; shaun hanns; speaks. former immigration insider speaks out for at least one child. chinese deal helps secure marley brown oval.\n",
            "3d printers virtual reality. recovered letters from australians. qantas bidder to take responsibility for bombing foreign. lions blow chances as aflw remains wide open. students may be hard to predict end to medical cures. tweed mayor committed to trial. aqis clears two suspected bird flu threat. french recognise oneills generous contribution. funds arrive for murdoch empire. turnbulls leadership on gay adoption bill. ombudsman finds staff unreasonably managed. ex paramedic blasts ambulance tasmania union warning on murray darling authority chief executive responds to comments from wa teen. rio flags go ahead with biofuel trial. health minister defends social housing development. council denies forcing quick out. telstra sale plans. anwar spinal surgery successful. labor launches industrial relations bills. government looks to continue bali holiday. hindmarsh ruled out in sydney. millers reject threat of parkinsons disease dreams brain. rock lobster industry braces for walloping in nsw. union seeks meeting over governance. prices will keep. rudd on climate change are you ready to do without giteau henjak. former mosque site. hobart council ele. mum and dad shareholders behind me telstra chief. us europe relations. road funding enough for some. phone services to retain single desk. fears in toxic l. parramatta shooting response faces scrutiny. visit home inspires rafter to take parents to obey laws. questions raised over anti discrimination complaint. melbourne welcomes home paralympians. rio and bhp. ministers warned their smartphone app saving lives and homes under threat from big attractions at wellington prison. number of cars. train hits bus stop. clarkson sorry for gay rights. upgraded schools on hit run drivers family apologise. hit run driver. police find missing boat disaster to al qaeda.\n"
          ]
        }
      ],
      "source": [
        "#Installing markovify\n",
        "!pip install markovify\n",
        "\n",
        "#Importing all the required libraries\n",
        "import pandas as pd\n",
        "import markovify\n",
        "\n",
        "#Loading the csv file as inp\n",
        "inp = pd.read_csv('abcnews-date-text.csv')\n",
        "\n",
        "#Displaying the three top rows\n",
        "print(inp.head(3))\n",
        "\n",
        "#Combining all the text into a single string\n",
        "text_data = '. '.join(inp['headline_text'].dropna().astype(str))\n",
        "\n",
        "#Creating a Markov model using markovify.Text\n",
        "text_model = markovify.Text(text_data)\n",
        "\n",
        "#Printing ten randomly generated sentences\n",
        "for i in range(10):\n",
        "    print(text_model.make_sentence())\n"
      ]
    },
    {
      "cell_type": "markdown",
      "source": [
        "Exercise 2. Text Summarization\n",
        "\n",
        "• Use sumy to summarize the ‘alice.txt’ file\n",
        "\n",
        "• Download the ‘punkt’ and 'tokenizers/punkt/PY3/english.pickle' NLTK libraries."
      ],
      "metadata": {
        "id": "WhtBE2zBOgaY"
      }
    },
    {
      "cell_type": "code",
      "source": [
        "#Installing sumy\n",
        "!pip install sumy nltk\n",
        "\n",
        "#Importing the required libraries\n",
        "from sumy.parsers.plaintext import PlaintextParser\n",
        "from sumy.nlp.tokenizers import Tokenizer\n",
        "from sumy.summarizers.lsa import LsaSummarizer\n",
        "import nltk\n",
        "\n",
        "#Downloading punkt\n",
        "nltk.download('punkt')\n",
        "\n",
        "#Loading the text from the file\n",
        "with open('alice.txt', 'r', encoding='utf-8') as file:\n",
        "    text = file.read()\n",
        "\n",
        "#Creating a parser\n",
        "parser = PlaintextParser.from_string(text, Tokenizer(\"english\"))\n",
        "\n",
        "#Initializing the LSA summarizer\n",
        "summarizer = LsaSummarizer()\n",
        "\n",
        "#Summarizing the text\n",
        "summary = summarizer(parser.document, 5)  # Summarize to 5 sentences\n",
        "\n",
        "#Printing the summary\n",
        "for sentence in summary:\n",
        "    print(sentence)"
      ],
      "metadata": {
        "colab": {
          "base_uri": "https://localhost:8080/"
        },
        "id": "3LOyhhlCPBc9",
        "outputId": "d6569de2-f10b-480f-dc20-6f435a1d0d7e"
      },
      "execution_count": 5,
      "outputs": [
        {
          "output_type": "stream",
          "name": "stdout",
          "text": [
            "Requirement already satisfied: sumy in /usr/local/lib/python3.10/dist-packages (0.11.0)\n",
            "Requirement already satisfied: nltk in /usr/local/lib/python3.10/dist-packages (3.8.1)\n",
            "Requirement already satisfied: docopt<0.7,>=0.6.1 in /usr/local/lib/python3.10/dist-packages (from sumy) (0.6.2)\n",
            "Requirement already satisfied: breadability>=0.1.20 in /usr/local/lib/python3.10/dist-packages (from sumy) (0.1.20)\n",
            "Requirement already satisfied: requests>=2.7.0 in /usr/local/lib/python3.10/dist-packages (from sumy) (2.32.3)\n",
            "Requirement already satisfied: pycountry>=18.2.23 in /usr/local/lib/python3.10/dist-packages (from sumy) (24.6.1)\n",
            "Requirement already satisfied: click in /usr/local/lib/python3.10/dist-packages (from nltk) (8.1.7)\n",
            "Requirement already satisfied: joblib in /usr/local/lib/python3.10/dist-packages (from nltk) (1.4.2)\n",
            "Requirement already satisfied: regex>=2021.8.3 in /usr/local/lib/python3.10/dist-packages (from nltk) (2024.9.11)\n",
            "Requirement already satisfied: tqdm in /usr/local/lib/python3.10/dist-packages (from nltk) (4.66.5)\n",
            "Requirement already satisfied: chardet in /usr/local/lib/python3.10/dist-packages (from breadability>=0.1.20->sumy) (5.2.0)\n",
            "Requirement already satisfied: lxml>=2.0 in /usr/local/lib/python3.10/dist-packages (from breadability>=0.1.20->sumy) (4.9.4)\n",
            "Requirement already satisfied: charset-normalizer<4,>=2 in /usr/local/lib/python3.10/dist-packages (from requests>=2.7.0->sumy) (3.4.0)\n",
            "Requirement already satisfied: idna<4,>=2.5 in /usr/local/lib/python3.10/dist-packages (from requests>=2.7.0->sumy) (3.10)\n",
            "Requirement already satisfied: urllib3<3,>=1.21.1 in /usr/local/lib/python3.10/dist-packages (from requests>=2.7.0->sumy) (2.2.3)\n",
            "Requirement already satisfied: certifi>=2017.4.17 in /usr/local/lib/python3.10/dist-packages (from requests>=2.7.0->sumy) (2024.8.30)\n"
          ]
        },
        {
          "output_type": "stream",
          "name": "stderr",
          "text": [
            "[nltk_data] Downloading package punkt to /root/nltk_data...\n",
            "[nltk_data]   Package punkt is already up-to-date!\n"
          ]
        },
        {
          "output_type": "stream",
          "name": "stdout",
          "text": [
            "The Mouse did not answer, so Alice went on eagerly:  `There is such a nice little dog near our house I should like to show you!\n",
            "The poor little thing sobbed again (or grunted, it was impossible to say which), and they went on for some while in silence.\n",
            "He sent them word I had not gone (We know it to be true): If she should push the matter on, What would become of you?\n",
            "Don't let him know she liked them best, For this must ever be A secret, kept from all the rest, Between yourself and me.'\n",
            "`If there's no meaning in it,' said the King, `that saves a world of trouble, you know, as we needn't try to find any.\n"
          ]
        }
      ]
    },
    {
      "cell_type": "markdown",
      "source": [
        "Exercise 3. Topic Modeling\n",
        "\n",
        "• Determine the top 20 topics using the Non-Negative Matrix\n",
        "Factorization (NMF) using ‘from sklearn.decomposition import NMF’\n",
        "\n",
        "• Vectorize the words after cleaning up the text\n",
        "\n",
        "• Use ‘print(\"Topic {}: {}\".format(i + 1, \",\".join([str(x) for x in idx_to_word [topic.argsort()[-10:]]]))) to list the topics"
      ],
      "metadata": {
        "id": "O8Z_jSEmPRRr"
      }
    },
    {
      "cell_type": "code",
      "source": [
        "#Importing the required libraries\n",
        "!pip install nltk scikit-learn pandas\n",
        "import pandas as pd\n",
        "import nltk\n",
        "from sklearn.feature_extraction.text import TfidfVectorizer\n",
        "from sklearn.decomposition import NMF\n",
        "import re\n",
        "\n",
        "#Loading the text data\n",
        "with open('alice.txt', 'r', encoding='utf-8') as file:\n",
        "    text = file.read()\n",
        "\n",
        "#Cleaning the text\n",
        "def clean_text(text):\n",
        "    text = re.sub(r'\\s+', ' ', text)  # Remove extra whitespace\n",
        "    text = re.sub(r'\\W+', ' ', text)  # Remove punctuation\n",
        "    text = text.lower()                # Convert to lowercase\n",
        "    return text\n",
        "\n",
        "cleaned_text = clean_text(text)\n",
        "documents = cleaned_text.splitlines()  # Split into individual lines\n",
        "\n",
        "#Vectorizing the text\n",
        "vectorizer = TfidfVectorizer(stop_words='english')\n",
        "tfidf_matrix = vectorizer.fit_transform(documents)\n",
        "\n",
        "#Setting the number of topics\n",
        "n_topics = 20\n",
        "\n",
        "#Fitting the NMF model\n",
        "nmf_model = NMF(n_components=n_topics, random_state=42)\n",
        "W = nmf_model.fit_transform(tfidf_matrix)\n",
        "H = nmf_model.components_\n",
        "\n",
        "#Getting the feature names\n",
        "idx_to_word = vectorizer.get_feature_names_out()\n",
        "\n",
        "#Printing the topics\n",
        "for i, topic in enumerate(H):\n",
        "    print(\"Topic {}: {}\".format(i + 1, \", \".join([str(x) for x in idx_to_word[topic.argsort()[-10:]]])))\n"
      ],
      "metadata": {
        "colab": {
          "base_uri": "https://localhost:8080/"
        },
        "id": "M18sxGL2PZon",
        "outputId": "c4b4056c-e5c4-4b14-e0c7-d6dfc542e4e6"
      },
      "execution_count": 6,
      "outputs": [
        {
          "output_type": "stream",
          "name": "stdout",
          "text": [
            "Requirement already satisfied: nltk in /usr/local/lib/python3.10/dist-packages (3.8.1)\n",
            "Requirement already satisfied: scikit-learn in /usr/local/lib/python3.10/dist-packages (1.5.2)\n",
            "Requirement already satisfied: pandas in /usr/local/lib/python3.10/dist-packages (2.2.2)\n",
            "Requirement already satisfied: click in /usr/local/lib/python3.10/dist-packages (from nltk) (8.1.7)\n",
            "Requirement already satisfied: joblib in /usr/local/lib/python3.10/dist-packages (from nltk) (1.4.2)\n",
            "Requirement already satisfied: regex>=2021.8.3 in /usr/local/lib/python3.10/dist-packages (from nltk) (2024.9.11)\n",
            "Requirement already satisfied: tqdm in /usr/local/lib/python3.10/dist-packages (from nltk) (4.66.5)\n",
            "Requirement already satisfied: numpy>=1.19.5 in /usr/local/lib/python3.10/dist-packages (from scikit-learn) (1.26.4)\n",
            "Requirement already satisfied: scipy>=1.6.0 in /usr/local/lib/python3.10/dist-packages (from scikit-learn) (1.13.1)\n",
            "Requirement already satisfied: threadpoolctl>=3.1.0 in /usr/local/lib/python3.10/dist-packages (from scikit-learn) (3.5.0)\n",
            "Requirement already satisfied: python-dateutil>=2.8.2 in /usr/local/lib/python3.10/dist-packages (from pandas) (2.8.2)\n",
            "Requirement already satisfied: pytz>=2020.1 in /usr/local/lib/python3.10/dist-packages (from pandas) (2024.2)\n",
            "Requirement already satisfied: tzdata>=2022.7 in /usr/local/lib/python3.10/dist-packages (from pandas) (2024.2)\n",
            "Requirement already satisfied: six>=1.5 in /usr/local/lib/python3.10/dist-packages (from python-dateutil>=2.8.2->pandas) (1.16.0)\n",
            "Topic 1: king, time, thought, queen, went, like, know, little, alice, said\n",
            "Topic 2: instantly, told, soup, butter, curiosity, likely, slowly, came, speaking, set\n",
            "Topic 3: hands, writing, explain, rest, loud, matter, elbow, long, consider, won\n",
            "Topic 4: grave, breath, funny, drink, history, officers, meaning, confusion, change, mock\n",
            "Topic 5: sang, gryphon, afraid, hadn, humbly, accident, notion, wondering, possibly, distance\n",
            "Topic 6: rabbit, times, crumbs, corner, said, queer, subject, march, arches, sounds\n",
            "Topic 7: goose, remarking, picked, time, fellow, come, sage, little, sun, alice\n",
            "Topic 8: peeped, life, beds, quiet, weak, piece, filled, low, middle, think\n",
            "Topic 9: dogs, yer, executioner, hadn, word, players, reach, hands, beg, long\n",
            "Topic 10: hadn, arches, thing, shaped, slipped, saw, backs, puzzled, fury, sad\n",
            "Topic 11: swim, mabel, natural, minute, won, pack, quite, ann, yesterday, keeping\n",
            "Topic 12: called, temper, love, hope, twinkling, says, courage, trouble, clock, poison\n",
            "Topic 13: argument, nasty, fumbled, age, authority, shower, followed, mile, smiled, fun\n",
            "Topic 14: spread, certainly, gravely, simple, changing, authority, cushion, poor, trying, croquet\n",
            "Topic 15: afore, cheated, hm, stirring, busy, ravens, doors, mushroom, curtain, belong\n",
            "Topic 16: crying, settle, tougher, backs, gay, mournfully, wide, doubtfully, aloud, calmly\n",
            "Topic 17: printed, lowing, old, oldest, true, tremulous, directly, punished, arches, usually\n",
            "Topic 18: blew, carefully, golden, bread, addressed, shingle, tumbling, hedgehog, dispute, cheeks\n",
            "Topic 19: seaography, agony, learned, bowing, flung, offend, lived, sun, pretending, thank\n",
            "Topic 20: learn, soothing, suppress, hurried, knew, want, pronounced, licking, ornamented, declare\n"
          ]
        }
      ]
    }
  ]
}