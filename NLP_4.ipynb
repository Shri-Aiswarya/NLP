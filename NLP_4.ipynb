{
  "nbformat": 4,
  "nbformat_minor": 0,
  "metadata": {
    "colab": {
      "provenance": [],
      "authorship_tag": "ABX9TyMe+wgxxmKEI3KUgQIAAWon",
      "include_colab_link": true
    },
    "kernelspec": {
      "name": "python3",
      "display_name": "Python 3"
    },
    "language_info": {
      "name": "python"
    }
  },
  "cells": [
    {
      "cell_type": "markdown",
      "metadata": {
        "id": "view-in-github",
        "colab_type": "text"
      },
      "source": [
        "<a href=\"https://colab.research.google.com/github/Shri-Aiswarya/NLP/blob/main/NLP_4.ipynb\" target=\"_parent\"><img src=\"https://colab.research.google.com/assets/colab-badge.svg\" alt=\"Open In Colab\"/></a>"
      ]
    },
    {
      "cell_type": "markdown",
      "source": [
        "Exercise 1. Sentiment Analysis\n",
        "This exercise will allow you to use PyTorch. Refer to the DATA 690 Resources.\n",
        "1. Import the required libraries."
      ],
      "metadata": {
        "id": "meW9sPkHLqej"
      }
    },
    {
      "cell_type": "code",
      "source": [
        "#Importing the required libraries\n",
        "!pip install torch"
      ],
      "metadata": {
        "colab": {
          "base_uri": "https://localhost:8080/"
        },
        "id": "2JjJcFxtLjmt",
        "outputId": "b2f04e18-0991-4474-bae5-8678046b249e"
      },
      "execution_count": 35,
      "outputs": [
        {
          "output_type": "stream",
          "name": "stdout",
          "text": [
            "Requirement already satisfied: torch in /usr/local/lib/python3.10/dist-packages (2.4.1+cu121)\n",
            "Requirement already satisfied: filelock in /usr/local/lib/python3.10/dist-packages (from torch) (3.16.1)\n",
            "Requirement already satisfied: typing-extensions>=4.8.0 in /usr/local/lib/python3.10/dist-packages (from torch) (4.12.2)\n",
            "Requirement already satisfied: sympy in /usr/local/lib/python3.10/dist-packages (from torch) (1.13.3)\n",
            "Requirement already satisfied: networkx in /usr/local/lib/python3.10/dist-packages (from torch) (3.3)\n",
            "Requirement already satisfied: jinja2 in /usr/local/lib/python3.10/dist-packages (from torch) (3.1.4)\n",
            "Requirement already satisfied: fsspec in /usr/local/lib/python3.10/dist-packages (from torch) (2024.6.1)\n",
            "Requirement already satisfied: MarkupSafe>=2.0 in /usr/local/lib/python3.10/dist-packages (from jinja2->torch) (2.1.5)\n",
            "Requirement already satisfied: mpmath<1.4,>=1.1.0 in /usr/local/lib/python3.10/dist-packages (from sympy->torch) (1.3.0)\n"
          ]
        }
      ]
    },
    {
      "cell_type": "code",
      "source": [
        "import torch\n",
        "import torch.nn as nn\n",
        "import torch.optim as optim\n",
        "from torch.utils.data import DataLoader, TensorDataset\n",
        "import pandas as pd\n",
        "import numpy as np\n",
        "import string\n",
        "import matplotlib.pyplot as plt\n",
        "from sklearn.model_selection import train_test_split\n",
        "from sklearn.preprocessing import LabelEncoder\n",
        "from sklearn.metrics import accuracy_score"
      ],
      "metadata": {
        "id": "8dJSjjESL485"
      },
      "execution_count": 5,
      "outputs": []
    },
    {
      "cell_type": "markdown",
      "source": [
        "2. Load the dataset containing a set of 1,000 product reviews from Amazon, which are\n",
        "paired with a label of 0 (for negative reviews) or 1 (for positive reviews). Get the data at\n",
        "https://archive.ics.uci.edu/ml/datasets/Sentiment+Labelled+Sentences."
      ],
      "metadata": {
        "id": "odRfJh3uOtBh"
      }
    },
    {
      "cell_type": "code",
      "source": [
        "#Loading the dataset and rename columns\n",
        "dataset = pd.read_csv('amazon_cells_labelled.txt', delimiter='\\t', header=None, names=['review', 'label'])\n",
        "dataset.head()"
      ],
      "metadata": {
        "colab": {
          "base_uri": "https://localhost:8080/",
          "height": 204
        },
        "id": "wynaSYgBMTFR",
        "outputId": "3003f9f7-e3e6-4dcb-8dff-c5d28befd1fb"
      },
      "execution_count": 36,
      "outputs": [
        {
          "output_type": "execute_result",
          "data": {
            "text/plain": [
              "                                              review  label\n",
              "0  So there is no way for me to plug it in here i...      0\n",
              "1                        Good case, Excellent value.      1\n",
              "2                             Great for the jawbone.      1\n",
              "3  Tied to charger for conversations lasting more...      0\n",
              "4                                  The mic is great.      1"
            ],
            "text/html": [
              "\n",
              "  <div id=\"df-59adc05e-3c08-4aa2-b265-38048d37e27c\" class=\"colab-df-container\">\n",
              "    <div>\n",
              "<style scoped>\n",
              "    .dataframe tbody tr th:only-of-type {\n",
              "        vertical-align: middle;\n",
              "    }\n",
              "\n",
              "    .dataframe tbody tr th {\n",
              "        vertical-align: top;\n",
              "    }\n",
              "\n",
              "    .dataframe thead th {\n",
              "        text-align: right;\n",
              "    }\n",
              "</style>\n",
              "<table border=\"1\" class=\"dataframe\">\n",
              "  <thead>\n",
              "    <tr style=\"text-align: right;\">\n",
              "      <th></th>\n",
              "      <th>review</th>\n",
              "      <th>label</th>\n",
              "    </tr>\n",
              "  </thead>\n",
              "  <tbody>\n",
              "    <tr>\n",
              "      <th>0</th>\n",
              "      <td>So there is no way for me to plug it in here i...</td>\n",
              "      <td>0</td>\n",
              "    </tr>\n",
              "    <tr>\n",
              "      <th>1</th>\n",
              "      <td>Good case, Excellent value.</td>\n",
              "      <td>1</td>\n",
              "    </tr>\n",
              "    <tr>\n",
              "      <th>2</th>\n",
              "      <td>Great for the jawbone.</td>\n",
              "      <td>1</td>\n",
              "    </tr>\n",
              "    <tr>\n",
              "      <th>3</th>\n",
              "      <td>Tied to charger for conversations lasting more...</td>\n",
              "      <td>0</td>\n",
              "    </tr>\n",
              "    <tr>\n",
              "      <th>4</th>\n",
              "      <td>The mic is great.</td>\n",
              "      <td>1</td>\n",
              "    </tr>\n",
              "  </tbody>\n",
              "</table>\n",
              "</div>\n",
              "    <div class=\"colab-df-buttons\">\n",
              "\n",
              "  <div class=\"colab-df-container\">\n",
              "    <button class=\"colab-df-convert\" onclick=\"convertToInteractive('df-59adc05e-3c08-4aa2-b265-38048d37e27c')\"\n",
              "            title=\"Convert this dataframe to an interactive table.\"\n",
              "            style=\"display:none;\">\n",
              "\n",
              "  <svg xmlns=\"http://www.w3.org/2000/svg\" height=\"24px\" viewBox=\"0 -960 960 960\">\n",
              "    <path d=\"M120-120v-720h720v720H120Zm60-500h600v-160H180v160Zm220 220h160v-160H400v160Zm0 220h160v-160H400v160ZM180-400h160v-160H180v160Zm440 0h160v-160H620v160ZM180-180h160v-160H180v160Zm440 0h160v-160H620v160Z\"/>\n",
              "  </svg>\n",
              "    </button>\n",
              "\n",
              "  <style>\n",
              "    .colab-df-container {\n",
              "      display:flex;\n",
              "      gap: 12px;\n",
              "    }\n",
              "\n",
              "    .colab-df-convert {\n",
              "      background-color: #E8F0FE;\n",
              "      border: none;\n",
              "      border-radius: 50%;\n",
              "      cursor: pointer;\n",
              "      display: none;\n",
              "      fill: #1967D2;\n",
              "      height: 32px;\n",
              "      padding: 0 0 0 0;\n",
              "      width: 32px;\n",
              "    }\n",
              "\n",
              "    .colab-df-convert:hover {\n",
              "      background-color: #E2EBFA;\n",
              "      box-shadow: 0px 1px 2px rgba(60, 64, 67, 0.3), 0px 1px 3px 1px rgba(60, 64, 67, 0.15);\n",
              "      fill: #174EA6;\n",
              "    }\n",
              "\n",
              "    .colab-df-buttons div {\n",
              "      margin-bottom: 4px;\n",
              "    }\n",
              "\n",
              "    [theme=dark] .colab-df-convert {\n",
              "      background-color: #3B4455;\n",
              "      fill: #D2E3FC;\n",
              "    }\n",
              "\n",
              "    [theme=dark] .colab-df-convert:hover {\n",
              "      background-color: #434B5C;\n",
              "      box-shadow: 0px 1px 3px 1px rgba(0, 0, 0, 0.15);\n",
              "      filter: drop-shadow(0px 1px 2px rgba(0, 0, 0, 0.3));\n",
              "      fill: #FFFFFF;\n",
              "    }\n",
              "  </style>\n",
              "\n",
              "    <script>\n",
              "      const buttonEl =\n",
              "        document.querySelector('#df-59adc05e-3c08-4aa2-b265-38048d37e27c button.colab-df-convert');\n",
              "      buttonEl.style.display =\n",
              "        google.colab.kernel.accessAllowed ? 'block' : 'none';\n",
              "\n",
              "      async function convertToInteractive(key) {\n",
              "        const element = document.querySelector('#df-59adc05e-3c08-4aa2-b265-38048d37e27c');\n",
              "        const dataTable =\n",
              "          await google.colab.kernel.invokeFunction('convertToInteractive',\n",
              "                                                    [key], {});\n",
              "        if (!dataTable) return;\n",
              "\n",
              "        const docLinkHtml = 'Like what you see? Visit the ' +\n",
              "          '<a target=\"_blank\" href=https://colab.research.google.com/notebooks/data_table.ipynb>data table notebook</a>'\n",
              "          + ' to learn more about interactive tables.';\n",
              "        element.innerHTML = '';\n",
              "        dataTable['output_type'] = 'display_data';\n",
              "        await google.colab.output.renderOutput(dataTable, element);\n",
              "        const docLink = document.createElement('div');\n",
              "        docLink.innerHTML = docLinkHtml;\n",
              "        element.appendChild(docLink);\n",
              "      }\n",
              "    </script>\n",
              "  </div>\n",
              "\n",
              "\n",
              "<div id=\"df-4f01ca8b-d880-48e1-a0da-9aacbb946ea1\">\n",
              "  <button class=\"colab-df-quickchart\" onclick=\"quickchart('df-4f01ca8b-d880-48e1-a0da-9aacbb946ea1')\"\n",
              "            title=\"Suggest charts\"\n",
              "            style=\"display:none;\">\n",
              "\n",
              "<svg xmlns=\"http://www.w3.org/2000/svg\" height=\"24px\"viewBox=\"0 0 24 24\"\n",
              "     width=\"24px\">\n",
              "    <g>\n",
              "        <path d=\"M19 3H5c-1.1 0-2 .9-2 2v14c0 1.1.9 2 2 2h14c1.1 0 2-.9 2-2V5c0-1.1-.9-2-2-2zM9 17H7v-7h2v7zm4 0h-2V7h2v10zm4 0h-2v-4h2v4z\"/>\n",
              "    </g>\n",
              "</svg>\n",
              "  </button>\n",
              "\n",
              "<style>\n",
              "  .colab-df-quickchart {\n",
              "      --bg-color: #E8F0FE;\n",
              "      --fill-color: #1967D2;\n",
              "      --hover-bg-color: #E2EBFA;\n",
              "      --hover-fill-color: #174EA6;\n",
              "      --disabled-fill-color: #AAA;\n",
              "      --disabled-bg-color: #DDD;\n",
              "  }\n",
              "\n",
              "  [theme=dark] .colab-df-quickchart {\n",
              "      --bg-color: #3B4455;\n",
              "      --fill-color: #D2E3FC;\n",
              "      --hover-bg-color: #434B5C;\n",
              "      --hover-fill-color: #FFFFFF;\n",
              "      --disabled-bg-color: #3B4455;\n",
              "      --disabled-fill-color: #666;\n",
              "  }\n",
              "\n",
              "  .colab-df-quickchart {\n",
              "    background-color: var(--bg-color);\n",
              "    border: none;\n",
              "    border-radius: 50%;\n",
              "    cursor: pointer;\n",
              "    display: none;\n",
              "    fill: var(--fill-color);\n",
              "    height: 32px;\n",
              "    padding: 0;\n",
              "    width: 32px;\n",
              "  }\n",
              "\n",
              "  .colab-df-quickchart:hover {\n",
              "    background-color: var(--hover-bg-color);\n",
              "    box-shadow: 0 1px 2px rgba(60, 64, 67, 0.3), 0 1px 3px 1px rgba(60, 64, 67, 0.15);\n",
              "    fill: var(--button-hover-fill-color);\n",
              "  }\n",
              "\n",
              "  .colab-df-quickchart-complete:disabled,\n",
              "  .colab-df-quickchart-complete:disabled:hover {\n",
              "    background-color: var(--disabled-bg-color);\n",
              "    fill: var(--disabled-fill-color);\n",
              "    box-shadow: none;\n",
              "  }\n",
              "\n",
              "  .colab-df-spinner {\n",
              "    border: 2px solid var(--fill-color);\n",
              "    border-color: transparent;\n",
              "    border-bottom-color: var(--fill-color);\n",
              "    animation:\n",
              "      spin 1s steps(1) infinite;\n",
              "  }\n",
              "\n",
              "  @keyframes spin {\n",
              "    0% {\n",
              "      border-color: transparent;\n",
              "      border-bottom-color: var(--fill-color);\n",
              "      border-left-color: var(--fill-color);\n",
              "    }\n",
              "    20% {\n",
              "      border-color: transparent;\n",
              "      border-left-color: var(--fill-color);\n",
              "      border-top-color: var(--fill-color);\n",
              "    }\n",
              "    30% {\n",
              "      border-color: transparent;\n",
              "      border-left-color: var(--fill-color);\n",
              "      border-top-color: var(--fill-color);\n",
              "      border-right-color: var(--fill-color);\n",
              "    }\n",
              "    40% {\n",
              "      border-color: transparent;\n",
              "      border-right-color: var(--fill-color);\n",
              "      border-top-color: var(--fill-color);\n",
              "    }\n",
              "    60% {\n",
              "      border-color: transparent;\n",
              "      border-right-color: var(--fill-color);\n",
              "    }\n",
              "    80% {\n",
              "      border-color: transparent;\n",
              "      border-right-color: var(--fill-color);\n",
              "      border-bottom-color: var(--fill-color);\n",
              "    }\n",
              "    90% {\n",
              "      border-color: transparent;\n",
              "      border-bottom-color: var(--fill-color);\n",
              "    }\n",
              "  }\n",
              "</style>\n",
              "\n",
              "  <script>\n",
              "    async function quickchart(key) {\n",
              "      const quickchartButtonEl =\n",
              "        document.querySelector('#' + key + ' button');\n",
              "      quickchartButtonEl.disabled = true;  // To prevent multiple clicks.\n",
              "      quickchartButtonEl.classList.add('colab-df-spinner');\n",
              "      try {\n",
              "        const charts = await google.colab.kernel.invokeFunction(\n",
              "            'suggestCharts', [key], {});\n",
              "      } catch (error) {\n",
              "        console.error('Error during call to suggestCharts:', error);\n",
              "      }\n",
              "      quickchartButtonEl.classList.remove('colab-df-spinner');\n",
              "      quickchartButtonEl.classList.add('colab-df-quickchart-complete');\n",
              "    }\n",
              "    (() => {\n",
              "      let quickchartButtonEl =\n",
              "        document.querySelector('#df-4f01ca8b-d880-48e1-a0da-9aacbb946ea1 button');\n",
              "      quickchartButtonEl.style.display =\n",
              "        google.colab.kernel.accessAllowed ? 'block' : 'none';\n",
              "    })();\n",
              "  </script>\n",
              "</div>\n",
              "\n",
              "    </div>\n",
              "  </div>\n"
            ],
            "application/vnd.google.colaboratory.intrinsic+json": {
              "type": "dataframe",
              "variable_name": "dataset",
              "summary": "{\n  \"name\": \"dataset\",\n  \"rows\": 1000,\n  \"fields\": [\n    {\n      \"column\": \"review\",\n      \"properties\": {\n        \"dtype\": \"string\",\n        \"num_unique_values\": 990,\n        \"samples\": [\n          \"The range is very decent, I've been able to roam around my house with the phone in the living room with no reception/sound quality issues.\",\n          \"The reception is excellent!\",\n          \"I would have given no star if I was able.\"\n        ],\n        \"semantic_type\": \"\",\n        \"description\": \"\"\n      }\n    },\n    {\n      \"column\": \"label\",\n      \"properties\": {\n        \"dtype\": \"number\",\n        \"std\": 0,\n        \"min\": 0,\n        \"max\": 1,\n        \"num_unique_values\": 2,\n        \"samples\": [\n          1,\n          0\n        ],\n        \"semantic_type\": \"\",\n        \"description\": \"\"\n      }\n    }\n  ]\n}"
            }
          },
          "metadata": {},
          "execution_count": 36
        }
      ]
    },
    {
      "cell_type": "markdown",
      "source": [
        "3. Separate the data into two variables: one containing the reviews and the other containing\n",
        "the labels. Remove the punctuation from the reviews."
      ],
      "metadata": {
        "id": "J7nxyr8xO1wq"
      }
    },
    {
      "cell_type": "code",
      "source": [
        "#Separating the data into two variables\n",
        "#Removing punctuation\n",
        "dataset['review'] = dataset['review'].apply(lambda x: x.translate(str.maketrans('', '', string.punctuation)))\n",
        "#Separating the reviews and labels\n",
        "reviews = dataset['review'].values\n",
        "labels = dataset['label'].values"
      ],
      "metadata": {
        "id": "q-Y-prOeMpht"
      },
      "execution_count": 37,
      "outputs": []
    },
    {
      "cell_type": "markdown",
      "source": [
        "4. Create a variable containing the vocabulary of the entire set of reviews."
      ],
      "metadata": {
        "id": "B50YQ9nEO8MY"
      }
    },
    {
      "cell_type": "code",
      "source": [
        "#Tokenizing the reviews\n",
        "vocabulary = set()\n",
        "for review in reviews:\n",
        "    words = review.split()\n",
        "    vocabulary.update(words)\n",
        "vocabulary = list(vocabulary)\n",
        "\n",
        "print(f'Vocabulary Size: {len(vocabulary)}')"
      ],
      "metadata": {
        "colab": {
          "base_uri": "https://localhost:8080/"
        },
        "id": "82RoWTJvM51a",
        "outputId": "42de26f9-c99b-4540-df13-3a1d631d7a57"
      },
      "execution_count": 38,
      "outputs": [
        {
          "output_type": "stream",
          "name": "stdout",
          "text": [
            "Vocabulary Size: 2220\n"
          ]
        }
      ]
    },
    {
      "cell_type": "markdown",
      "source": [
        "5.  Additionally, create a dictionary that maps each word to an integer, where the words will be the keys and the integers will be the values."
      ],
      "metadata": {
        "id": "7PiuiH1aO-fR"
      }
    },
    {
      "cell_type": "code",
      "source": [
        "#Creating a word-to-integer dictionary\n",
        "word_to_int = {word: idx for idx, word in enumerate(vocabulary)}\n",
        "print(f\"Example mapping: {list(word_to_int.items())[:5]}\")"
      ],
      "metadata": {
        "colab": {
          "base_uri": "https://localhost:8080/"
        },
        "id": "6pBWjhEfNGpZ",
        "outputId": "e9092a3c-dc7b-4427-c889-9502fd39e8d6"
      },
      "execution_count": 40,
      "outputs": [
        {
          "output_type": "stream",
          "name": "stdout",
          "text": [
            "Example mapping: [('three', 0), ('scary', 1), ('bad', 2), ('graphics', 3), ('Truly', 4)]\n"
          ]
        }
      ]
    },
    {
      "cell_type": "markdown",
      "source": [
        "6. Encode the review data by replacing each word in a review for its paired integer.\n"
      ],
      "metadata": {
        "id": "_GPerCPTPZUL"
      }
    },
    {
      "cell_type": "code",
      "source": [
        "#Encoding each review into integers\n",
        "encoded_reviews = [[word_to_int[word] for word in review.split() if word in word_to_int] for review in reviews]\n",
        "\n",
        "#Padding all reviews to the same length\n",
        "max_len = max(len(review) for review in encoded_reviews)\n",
        "encoded_reviews = [review + [0]*(max_len - len(review)) for review in encoded_reviews]\n",
        "encoded_reviews = np.array(encoded_reviews)\n",
        "\n",
        "print(f\"Encoded reviews shape: {encoded_reviews.shape}\")"
      ],
      "metadata": {
        "colab": {
          "base_uri": "https://localhost:8080/"
        },
        "id": "cdSI9AnDNPBG",
        "outputId": "28fa0b11-02c5-44df-b073-f6873293d683"
      },
      "execution_count": 41,
      "outputs": [
        {
          "output_type": "stream",
          "name": "stdout",
          "text": [
            "Encoded reviews shape: (1000, 30)\n"
          ]
        }
      ]
    },
    {
      "cell_type": "markdown",
      "source": [
        "7. Create a class containing the architecture of the network.\n"
      ],
      "metadata": {
        "id": "8i149LhcPe5w"
      }
    },
    {
      "cell_type": "code",
      "source": [
        "#Defining the Model Architecture\n",
        "class SentimentLSTM(nn.Module):\n",
        "    def __init__(self, vocab_size, embedding_dim, lstm_hidden_size, output_size, n_layers=3):\n",
        "        \"\"\"\n",
        "        Initialize the SentimentLSTM model.\n",
        "        Args:\n",
        "        - vocab_size (int): The size of the vocabulary (number of unique words).\n",
        "        - embedding_dim (int): The number of dimensions in the word embeddings.\n",
        "        - lstm_hidden_size (int): The number of neurons in the LSTM hidden layers.\n",
        "        - output_size (int): The size of the output (1 for binary classification).\n",
        "        - n_layers (int): The number of LSTM layers (default is 3).\n",
        "        \"\"\"\n",
        "        super(SentimentLSTM, self).__init__()\n",
        "\n",
        "        # Embedding layer that converts words into dense vectors of fixed size (embedding_dim).\n",
        "        self.embedding = nn.Embedding(vocab_size, embedding_dim)\n",
        "\n",
        "        # LSTM layers with 'n_layers' stacked LSTM cells.\n",
        "        # batch_first=True means that the input/output tensors will have the shape (batch_size, seq_length, input_size).\n",
        "        self.lstm = nn.LSTM(embedding_dim, lstm_hidden_size, n_layers, batch_first=True)\n",
        "\n",
        "        # Fully connected (dense) layer that maps LSTM outputs to a single output value.\n",
        "        self.fc = nn.Linear(lstm_hidden_size, output_size)\n",
        "\n",
        "        # Sigmoid activation to output probabilities for binary classification (between 0 and 1).\n",
        "        self.sigmoid = nn.Sigmoid()\n",
        "\n",
        "    def forward(self, x):\n",
        "        \"\"\"\n",
        "        Perform a forward pass through the network.\n",
        "        Args:\n",
        "        - x (tensor): Input tensor of tokenized reviews (batch_size, seq_length).\n",
        "        Returns:\n",
        "        - tensor: A tensor containing the predicted sentiment scores (between 0 and 1).\n",
        "        \"\"\"\n",
        "        # Pass input through the embedding layer to get the word embeddings.\n",
        "        embedded = self.embedding(x)\n",
        "\n",
        "        # Pass the embeddings through the LSTM layers.\n",
        "        # lstm_out contains all hidden states in the sequence, while _ contains the last hidden state and cell state.\n",
        "        lstm_out, _ = self.lstm(embedded)\n",
        "\n",
        "        # Take the hidden state of the last LSTM time step (last word in the sequence).\n",
        "        out = lstm_out[:, -1, :]\n",
        "\n",
        "        # Pass the last hidden state through the fully connected layer.\n",
        "        out = self.fc(out)\n",
        "\n",
        "        # Apply sigmoid activation to get the final probability score (0 to 1).\n",
        "        return self.sigmoid(out)\n"
      ],
      "metadata": {
        "id": "4CVdtDCrNUDt"
      },
      "execution_count": 42,
      "outputs": []
    },
    {
      "cell_type": "markdown",
      "source": [
        "8. Make sure that you include an embedding layer. Initialize the model using 64 embedding\n",
        "dimensions and 128 neurons for 3 LSTM layers."
      ],
      "metadata": {
        "id": "tmL0D0r2PmOf"
      }
    },
    {
      "cell_type": "code",
      "source": [
        "#Initializing the Model\n",
        "#Calculating the size of the vocabulary (number of unique words in the dataset).\n",
        "vocab_size = len(vocabulary)\n",
        "embedding_dim = 64\n",
        "lstm_hidden_size = 128\n",
        "output_size = 1\n",
        "#Instantiating the SentimentLSTM model with the specified parameters.\n",
        "model = SentimentLSTM(vocab_size, embedding_dim, lstm_hidden_size, output_size)\n",
        "print(model)"
      ],
      "metadata": {
        "colab": {
          "base_uri": "https://localhost:8080/"
        },
        "id": "2XBVfj1nOBKN",
        "outputId": "0f7863a6-aa93-40c7-89f2-573a9ede8e3b"
      },
      "execution_count": 43,
      "outputs": [
        {
          "output_type": "stream",
          "name": "stdout",
          "text": [
            "SentimentLSTM(\n",
            "  (embedding): Embedding(2220, 64)\n",
            "  (lstm): LSTM(64, 128, num_layers=3, batch_first=True)\n",
            "  (fc): Linear(in_features=128, out_features=1, bias=True)\n",
            "  (sigmoid): Sigmoid()\n",
            ")\n"
          ]
        }
      ]
    },
    {
      "cell_type": "markdown",
      "source": [
        "9. Define the loss function, an optimization algorithm, and the number of epochs to train for.\n",
        "For example, you can use binary cross-entropy loss as the loss function, the Adam\n",
        "optimizer, and train for 10 epochs."
      ],
      "metadata": {
        "id": "mz9yqWQnPtzo"
      }
    },
    {
      "cell_type": "code",
      "source": [
        "#Defining the Loss Function, Optimizer, and Number of Epochs\n",
        "#Binary Cross Entropy Loss\n",
        "loss_function = nn.BCELoss()\n",
        "optimizer = optim.Adam(model.parameters(), lr=0.001)\n",
        "epochs = 10"
      ],
      "metadata": {
        "id": "t1t9vF1eOW8h"
      },
      "execution_count": 44,
      "outputs": []
    },
    {
      "cell_type": "markdown",
      "source": [
        "10. Create a for loop that goes through the different epochs and through every single review individually. For each review, perform a prediction, calculate the loss function, and\n",
        "update the parameters of the network. Additionally, calculate the accuracy of the network\n",
        "over that training data."
      ],
      "metadata": {
        "id": "mwjAFafzPzdI"
      }
    },
    {
      "cell_type": "code",
      "source": [
        "#Splitting the data into train and test sets\n",
        "X_train, X_test, y_train, y_test = train_test_split(encoded_reviews, labels, test_size=0.2)\n",
        "\n",
        "#Converting to PyTorch tensors\n",
        "X_train = torch.tensor(X_train, dtype=torch.long)\n",
        "y_train = torch.tensor(y_train, dtype=torch.float32).unsqueeze(1)\n",
        "X_test = torch.tensor(X_test, dtype=torch.long)\n",
        "y_test = torch.tensor(y_test, dtype=torch.float32).unsqueeze(1)\n",
        "\n",
        "#Creating a DataLoader\n",
        "train_data = TensorDataset(X_train, y_train)\n",
        "train_loader = DataLoader(train_data, batch_size=64, shuffle=True)\n",
        "\n",
        "#Training loop\n",
        "train_losses, accuracies = [], []\n",
        "\n",
        "for epoch in range(epochs):\n",
        "    model.train()\n",
        "    total_loss = 0\n",
        "    y_preds, y_trues = [], []\n",
        "\n",
        "    for reviews_batch, labels_batch in train_loader:\n",
        "        optimizer.zero_grad()\n",
        "        output = model(reviews_batch)\n",
        "        loss = loss_function(output, labels_batch)\n",
        "        loss.backward()\n",
        "        optimizer.step()\n",
        "        total_loss += loss.item()\n",
        "\n",
        "        #Calculating accuracy\n",
        "        predictions = (output > 0.5).float()\n",
        "        y_preds.extend(predictions.detach().cpu().numpy())\n",
        "        y_trues.extend(labels_batch.cpu().numpy())\n",
        "\n",
        "    epoch_accuracy = accuracy_score(y_trues, y_preds)\n",
        "    train_losses.append(total_loss / len(train_loader))\n",
        "    accuracies.append(epoch_accuracy)\n",
        "    print(f\"Epoch {epoch+1}/{epochs}, Loss: {total_loss/len(train_loader):.4f}, Accuracy: {epoch_accuracy:.4f}\")\n"
      ],
      "metadata": {
        "colab": {
          "base_uri": "https://localhost:8080/"
        },
        "id": "-8sIDPJWP4zm",
        "outputId": "d86264eb-cf06-4962-ce68-51f96f52cce4"
      },
      "execution_count": 45,
      "outputs": [
        {
          "output_type": "stream",
          "name": "stdout",
          "text": [
            "Epoch 1/10, Loss: 0.6951, Accuracy: 0.4938\n",
            "Epoch 2/10, Loss: 0.6938, Accuracy: 0.4637\n",
            "Epoch 3/10, Loss: 0.6933, Accuracy: 0.4963\n",
            "Epoch 4/10, Loss: 0.6933, Accuracy: 0.4825\n",
            "Epoch 5/10, Loss: 0.6931, Accuracy: 0.5062\n",
            "Epoch 6/10, Loss: 0.6934, Accuracy: 0.5012\n",
            "Epoch 7/10, Loss: 0.6932, Accuracy: 0.5012\n",
            "Epoch 8/10, Loss: 0.6929, Accuracy: 0.5150\n",
            "Epoch 9/10, Loss: 0.6931, Accuracy: 0.5050\n",
            "Epoch 10/10, Loss: 0.6906, Accuracy: 0.5200\n"
          ]
        }
      ]
    },
    {
      "cell_type": "markdown",
      "source": [
        "11. Plot the progress of the loss function and accuracy over time."
      ],
      "metadata": {
        "id": "DD8aNcHuQTPB"
      }
    },
    {
      "cell_type": "code",
      "source": [
        "#Plotting the Loss and Accuracy over epochs\n",
        "plt.figure(figsize=(12, 5))\n",
        "plt.subplot(1, 2, 1)\n",
        "plt.plot(train_losses, label='Training Loss')\n",
        "plt.title('Training Loss over epochs')\n",
        "plt.xlabel('Epochs')\n",
        "plt.ylabel('Loss')\n",
        "plt.legend()\n",
        "plt.subplot(1, 2, 2)\n",
        "plt.plot(accuracies, label='Training Accuracy')\n",
        "plt.title('Training Accuracy over epochs')\n",
        "plt.xlabel('Epochs')\n",
        "plt.ylabel('Accuracy')\n",
        "plt.legend()\n",
        "plt.show()"
      ],
      "metadata": {
        "colab": {
          "base_uri": "https://localhost:8080/",
          "height": 487
        },
        "id": "t8GL_CcKQdcZ",
        "outputId": "8457d5a2-b71e-492a-df8a-10811fa44c4e"
      },
      "execution_count": 46,
      "outputs": [
        {
          "output_type": "display_data",
          "data": {
            "text/plain": [
              "<Figure size 1200x500 with 2 Axes>"
            ],
            "image/png": "[encoded data removed]"
          },
          "metadata": {}
        }
      ]
    },
    {
      "cell_type": "markdown",
      "source": [
        "Exercise 2. Sentiment Analysis\n",
        "\n",
        "Consider the following text:\n",
        "\n",
        "sentence = “””The larger Broncos will be available with 35-inch off-road tires and will be able\n",
        "to drive through water nearly 3 feet, 10 inches deep. It has independent front suspension, unlike its main competitor, the Jeep Wrangler. Independent suspension, used\n",
        "on almost all modern passenger vehicles, generally provides a smoother ride and better on -\n",
        "road handling than a single solid axle. It still has a solid axle in the back though, like most\n",
        "pickup trucks, a design suited to hard use. Like the Wrangler, both the two- and four-door\n",
        "Bronco will have a removable roofs and doors. Buyers will be able to choose either a hard\n",
        "roof that can be removed in sections, a cloth top, or both. Unlike the Wrangler, though, the\n",
        "Bronco's doors will fit inside the vehicle after being removed. The Bronco will be available\n",
        "with a choice of either a 10-speed automatic or seven-speed manual transmission. (The\n",
        "manual transmission will have six gears for ordinary driving, plus a seventh for low speed\n",
        "off-road driving.) It will be powered by either a 270- horsepower 2.3-liter turbocharged 4-\n",
        "cylinder engine or a 310-horsepower 2.7-liter turbocharged V6. While all of the new Bronco\n",
        "SUVs are designed for hard off-road use, the Bronco Sport isn't quite as hard-core in its\n",
        "capabilities. It also has more convenience features than the more truck-like Bronco. While\n",
        "it's based on engineering that's similar to car-like crossover SUVs, Ford says that it's still\n",
        "intended for serious off-road use. Ford engineers boasted of the off-road testing the\n",
        "prototypes have been put through, including driving through deep sand, up steep inclines ,\n",
        "and crawling across boulder-strewn trails.”””\n",
        "Perform the following task on the above sentences:"
      ],
      "metadata": {
        "id": "ULgraG2ELhdV"
      }
    },
    {
      "cell_type": "markdown",
      "source": [
        "1. Replace special characters with empty spaces. You can use regex or any other method"
      ],
      "metadata": {
        "id": "K36S4kkoQ8xw"
      }
    },
    {
      "cell_type": "code",
      "source": [
        "!pip install TextBlob nltk"
      ],
      "metadata": {
        "colab": {
          "base_uri": "https://localhost:8080/"
        },
        "id": "LOtFygd2RWru",
        "outputId": "d588c093-d09d-431c-b733-95cdf9188930"
      },
      "execution_count": 47,
      "outputs": [
        {
          "output_type": "stream",
          "name": "stdout",
          "text": [
            "Requirement already satisfied: TextBlob in /usr/local/lib/python3.10/dist-packages (0.17.1)\n",
            "Requirement already satisfied: nltk in /usr/local/lib/python3.10/dist-packages (3.8.1)\n",
            "Requirement already satisfied: click in /usr/local/lib/python3.10/dist-packages (from nltk) (8.1.7)\n",
            "Requirement already satisfied: joblib in /usr/local/lib/python3.10/dist-packages (from nltk) (1.4.2)\n",
            "Requirement already satisfied: regex>=2021.8.3 in /usr/local/lib/python3.10/dist-packages (from nltk) (2024.9.11)\n",
            "Requirement already satisfied: tqdm in /usr/local/lib/python3.10/dist-packages (from nltk) (4.66.5)\n"
          ]
        }
      ]
    },
    {
      "cell_type": "code",
      "source": [
        "import re\n",
        "import nltk\n",
        "from nltk.corpus import stopwords\n",
        "from nltk.stem import PorterStemmer, WordNetLemmatizer\n",
        "from textblob import TextBlob\n",
        "nltk.download('punkt')\n",
        "nltk.download('stopwords')\n",
        "nltk.download('wordnet')"
      ],
      "metadata": {
        "colab": {
          "base_uri": "https://localhost:8080/"
        },
        "id": "UREzV366RqK0",
        "outputId": "bd63442b-2add-49f1-81b0-ad4919c503bb"
      },
      "execution_count": 48,
      "outputs": [
        {
          "output_type": "stream",
          "name": "stderr",
          "text": [
            "[nltk_data] Downloading package punkt to /root/nltk_data...\n",
            "[nltk_data]   Package punkt is already up-to-date!\n",
            "[nltk_data] Downloading package stopwords to /root/nltk_data...\n",
            "[nltk_data]   Package stopwords is already up-to-date!\n",
            "[nltk_data] Downloading package wordnet to /root/nltk_data...\n",
            "[nltk_data]   Package wordnet is already up-to-date!\n"
          ]
        },
        {
          "output_type": "execute_result",
          "data": {
            "text/plain": [
              "True"
            ]
          },
          "metadata": {},
          "execution_count": 48
        }
      ]
    },
    {
      "cell_type": "code",
      "source": [
        "sentence = \"\"\"The larger Broncos will be available with 35-inch off-road tires and will be able\n",
        "to drive through water nearly 3 feet, 10 inches deep. It has independent front DATA 690 2\n",
        "suspension, unlike its main competitor, the Jeep Wrangler. Independent suspension, used\n",
        "on almost all modern passenger vehicles, generally provides a smoother ride and better on -\n",
        "road handling than a single solid axle. It still has a solid axle in the back though, like most\n",
        "pickup trucks, a design suited to hard use. Like the Wrangler, both the two- and four-door\n",
        "Bronco will have a removable roofs and doors. Buyers will be able to choose either a hard\n",
        "roof that can be removed in sections, a cloth top, or both. Unlike the Wrangler, though, the\n",
        "Bronco's doors will fit inside the vehicle after being removed. The Bronco will be available\n",
        "with a choice of either a 10-speed automatic or seven-speed manual transmission. (The\n",
        "manual transmission will have six gears for ordinary driving, plus a seventh for low speed\n",
        "off-road driving.) It will be powered by either a 270- horsepower 2.3-liter turbocharged 4-\n",
        "cylinder engine or a 310-horsepower 2.7-liter turbocharged V6. While all of the new Bronco\n",
        "SUVs are designed for hard off-road use, the Bronco Sport isn't quite as hard-core in its\n",
        "capabilities. It also has more convenience features than the more truck-like Bronco. While\n",
        "it's based on engineering that's similar to car-like crossover SUVs, Ford says that it's still\n",
        "intended for serious off-road use. Ford engineers boasted of the off-road testing the\n",
        "prototypes have been put through, including driving through deep sand, up steep inclines ,\n",
        "and crawling across boulder-strewn trails.\"\"\""
      ],
      "metadata": {
        "id": "a9KarSYBR4Wp"
      },
      "execution_count": 25,
      "outputs": []
    },
    {
      "cell_type": "code",
      "source": [
        "#Replacing characters with empty spaces\n",
        "cleaned_text = re.sub(r'[^\\w\\s]', ' ', sentence)"
      ],
      "metadata": {
        "id": "HRPtG5LXSaXh"
      },
      "execution_count": 49,
      "outputs": []
    },
    {
      "cell_type": "markdown",
      "source": [
        "2. Remove multiple empty spaces and replace them with a single space"
      ],
      "metadata": {
        "id": "3lYmhdj9SS_p"
      }
    },
    {
      "cell_type": "code",
      "source": [
        "cleaned_text = re.sub(r'\\s+', ' ', cleaned_text)"
      ],
      "metadata": {
        "id": "25unvh9rShx-"
      },
      "execution_count": 50,
      "outputs": []
    },
    {
      "cell_type": "markdown",
      "source": [
        "3. Remove any single character\n"
      ],
      "metadata": {
        "id": "v_IUOIRoTBvg"
      }
    },
    {
      "cell_type": "code",
      "source": [
        "cleaned_text = re.sub(r'\\s\\w\\s', ' ', cleaned_text)"
      ],
      "metadata": {
        "id": "ITgxjMMATDnU"
      },
      "execution_count": 51,
      "outputs": []
    },
    {
      "cell_type": "markdown",
      "source": [
        "4. Convert the text to all lowercase"
      ],
      "metadata": {
        "id": "UQ_MOwxLTGp1"
      }
    },
    {
      "cell_type": "code",
      "source": [
        "cleaned_text = cleaned_text.lower()"
      ],
      "metadata": {
        "id": "_P5xMSihTKLF"
      },
      "execution_count": 52,
      "outputs": []
    },
    {
      "cell_type": "markdown",
      "source": [
        "5. Split the text into individual words"
      ],
      "metadata": {
        "id": "RSA7LWpmTNHo"
      }
    },
    {
      "cell_type": "code",
      "source": [
        "words = nltk.word_tokenize(cleaned_text)"
      ],
      "metadata": {
        "id": "4TsJ0dK5TQps"
      },
      "execution_count": 53,
      "outputs": []
    },
    {
      "cell_type": "markdown",
      "source": [
        "6. Remove stopwords"
      ],
      "metadata": {
        "id": "2PCpMba-TTJT"
      }
    },
    {
      "cell_type": "code",
      "source": [
        "stop_words = set(stopwords.words('english'))\n",
        "filtered_words = [word for word in words if word not in stop_words]"
      ],
      "metadata": {
        "id": "BLV_Bv73TYPF"
      },
      "execution_count": 29,
      "outputs": []
    },
    {
      "cell_type": "markdown",
      "source": [
        "7. Tokenize, stem, and lemmatize the text"
      ],
      "metadata": {
        "id": "RNPD58HSTcwG"
      }
    },
    {
      "cell_type": "code",
      "source": [
        "#Initializing the Porter Stemmer, reduces words to their root form\n",
        "stemmer = PorterStemmer()\n",
        "\n",
        "#Initializing the WordNet Lemmatizer, reduces words to their base or dictionary form\n",
        "lemmatizer = WordNetLemmatizer()\n",
        "\n",
        "#Applying stemming to each word in the 'filtered_words' list.\n",
        "#Stemming cuts off suffixes and reduces the word to its root form (which may not always be a valid word).\n",
        "stemmed_words = [stemmer.stem(word) for word in filtered_words]\n",
        "\n",
        "#Applying lemmatization to each word in the 'filtered_words' list.\n",
        "#Lemmatization considers the context and reduces words to their meaningful base form (usually a valid word).\n",
        "lemmatized_words = [lemmatizer.lemmatize(word) for word in filtered_words]\n"
      ],
      "metadata": {
        "id": "wOV80aJyTgGv"
      },
      "execution_count": 54,
      "outputs": []
    },
    {
      "cell_type": "markdown",
      "source": [
        "\n",
        "8. What is the overall sentiment and subjectivity of the text"
      ],
      "metadata": {
        "id": "6l0ik9llVIpD"
      }
    },
    {
      "cell_type": "code",
      "source": [
        "blob = TextBlob(sentence)\n",
        "sentiment = blob.sentiment"
      ],
      "metadata": {
        "id": "HGWkfV6XUpzr"
      },
      "execution_count": 55,
      "outputs": []
    },
    {
      "cell_type": "code",
      "source": [
        "print(\"Cleaned Text: \", cleaned_text[:100])  # Displaying first 100 charachters\n",
        "print(\"First 10 Filtered Words: \", filtered_words[:10])  # Displaying first 10 words\n",
        "print(\"First 10 Stemmed Words: \", stemmed_words[:10])  # Displaying first 10 words\n",
        "print(\"First 10 Lemmatized Words: \", lemmatized_words[:10])  # Displaying first 10 words\n",
        "print(\"Sentiment: \", sentiment)"
      ],
      "metadata": {
        "colab": {
          "base_uri": "https://localhost:8080/"
        },
        "id": "D8F-BgnsVWdd",
        "outputId": "255c9edf-36dd-4253-faff-9a2500a6764a"
      },
      "execution_count": 56,
      "outputs": [
        {
          "output_type": "stream",
          "name": "stdout",
          "text": [
            "Cleaned Text:  the larger broncos will be available with 35 inch off road tires and will be able to drive through w\n",
            "First 10 Filtered Words:  ['You', 'answer', 'calls', 'unit', 'never', 'worked']\n",
            "First 10 Stemmed Words:  ['you', 'answer', 'call', 'unit', 'never', 'work']\n",
            "First 10 Lemmatized Words:  ['You', 'answer', 'call', 'unit', 'never', 'worked']\n",
            "Sentiment:  Sentiment(polarity=0.12333123865381931, subjectivity=0.39980100544616676)\n"
          ]
        }
      ]
    },
    {
      "cell_type": "code",
      "source": [
        "#Determining and displaying sentiment category\n",
        "if sentiment.polarity < -0.1:\n",
        "    sentiment_category = 'Negative'\n",
        "elif -0.1 <= sentiment.polarity <= 0.1:\n",
        "    sentiment_category = 'Neutral'\n",
        "else:\n",
        "    sentiment_category = 'Positive'\n",
        "\n",
        "#Determining and displaying subjectivity category\n",
        "if sentiment.subjectivity >= 0.5:\n",
        "    subjectivity_category = 'Subjective'\n",
        "else:\n",
        "    subjectivity_category = 'Objective'\n",
        "\n",
        "#Displaying the categories\n",
        "print(f'The sentiment is {sentiment_category}.')\n",
        "print(f'The text is {subjectivity_category}.')"
      ],
      "metadata": {
        "colab": {
          "base_uri": "https://localhost:8080/"
        },
        "id": "KpbAYEqwVaFt",
        "outputId": "7cbfc3dd-0f03-4041-e528-5379661fc5a5"
      },
      "execution_count": 57,
      "outputs": [
        {
          "output_type": "stream",
          "name": "stdout",
          "text": [
            "The sentiment is Positive.\n",
            "The text is Objective.\n"
          ]
        }
      ]
    }
  ]
}