{
  "nbformat": 4,
  "nbformat_minor": 0,
  "metadata": {
    "colab": {
      "provenance": [],
      "authorship_tag": "ABX9TyOAowqLLhARf+jpQLsixtqt",
      "include_colab_link": true
    },
    "kernelspec": {
      "name": "python3",
      "display_name": "Python 3"
    },
    "language_info": {
      "name": "python"
    }
  },
  "cells": [
    {
      "cell_type": "markdown",
      "metadata": {
        "id": "view-in-github",
        "colab_type": "text"
      },
      "source": [
        "<a href=\"https://colab.research.google.com/github/Shri-Aiswarya/NLP/blob/main/NLP_HW_1.ipynb\" target=\"_parent\"><img src=\"https://colab.research.google.com/assets/colab-badge.svg\" alt=\"Open In Colab\"/></a>"
      ]
    },
    {
      "cell_type": "markdown",
      "source": [
        "NLP_Homework_1"
      ],
      "metadata": {
        "id": "N8i4ZUaIqp_O"
      }
    },
    {
      "cell_type": "markdown",
      "source": [
        "1. Which of the following is not an application of NLP?\n",
        "a. Image labeling\n",
        "b. Poetry generation\n",
        "c. Sentimental analysis\n",
        "d. E-mail classification\n",
        "\n",
        "\n",
        "ans: (a) Image labeling is not an application of NLP.\n",
        "\n",
        "NLP deals with understanding and processing human language, while image labeling involves identifying objects or features within images.\n",
        "This is under the domain of computer vision."
      ],
      "metadata": {
        "id": "TF3mcsseRnm7"
      }
    },
    {
      "cell_type": "markdown",
      "source": [
        "2. Which of the following is not an NLP task?\n",
        "   a. Tokenization\n",
        "   b. Stop word removal\n",
        "   c. Part-of-speech tagging\n",
        "   d. Image segmentation\n",
        "\n",
        "ans: (d) Image segmentation\n",
        "\n",
        "\n",
        "\n",
        "\n",
        "Tokenization: This is an NLP task that involves breaking down text into smaller units, such as words or phrases. Stop word removal: This is an NLP task where common words (like \"and,\" \"the,\" etc.) that are often removed from text to focus on more meaningful words are filtered out. Part-of-speech tagging: This NLP task involves identifying the part of speech (e.g., noun, verb, adjective) for each word in a sentence. Image segmentation is not an NLP task; it is a computer vision task that involves partitioning an image into multiple segments or regions, often to simplify the analysis or to identify objects within an image."
      ],
      "metadata": {
        "id": "lX91w7xdqmoK"
      }
    },
    {
      "cell_type": "markdown",
      "source": [
        "3. Which of the following is not a disadvantage of rule-based approaches for NLP?\n",
        "   a. Not flexible\n",
        "   b. Not scalable\n",
        "   c. Requires huge dataset\n",
        "   d. None of the above\n",
        "\n",
        "\n",
        "ans: (c) Requires huge dataset\n",
        "\n",
        "\n",
        "\n",
        "Not flexible: Rule-based approaches are often rigid and require manual updates to adapt to new patterns or variations in the language. Not scalable: Rule-based systems can become complex and unwieldy as the volume of data or the number of rules increases, making them difficult to scale. Requires huge dataset: This is not typically a disadvantage of rule-based approaches. In fact, rule-based systems do not require large datasets because they rely on explicitly defined rules rather than learning from data. They use predefined rules and patterns set by experts, so they are less dependent on large datasets compared to machine learning approaches. Therefore, requiring a huge dataset is not a disadvantage of rule-based approaches, making option c the correct choice."
      ],
      "metadata": {
        "id": "WxnuyfQrrO4b"
      }
    },
    {
      "cell_type": "markdown",
      "source": [
        "4. What are the two major types of NLP approaches?\n",
        "\n",
        "\n",
        "ans: The first step in natural language processing (NLP) is data pre-processing, which is simply cleaning and organizing the data into a common format that the algorithm can understand. In another way, the goal of pre-processing text input is to format the content so that the model can comprehend it and use it to train itself to resemble human comprehension.\n",
        "\n",
        "The 2 main approaches of NLP can be split into two major groups: syntactic and semantic\n",
        "\n",
        "Syntactic approaches\n",
        "\n",
        "Anything syntax-specific can be found under this category:\n",
        "\n",
        "(1)Lemmatization: As one of the key techniques in NLP for data pre-processing, lemmatization is essentially reducing the word to its root word, also called a lemma. Take irregular comparatives and superlatives, for example. A lemmatization algorithm can identify that the root of less is little.\n",
        "\n",
        "(2)Stemming: Stemming, by contrast, although shares the definition with lemmatization holding up to the same word-reduction logic, would not spot the connection between less and little. It would just chop off one letter at a time, without getting to the essence of the word.\n",
        "\n",
        "(3)Segmentation: By breaking the word into smaller morphemes (units) morphological segmentation extends its applications to speech recognition, data retrieval, machine translation, etc.\n",
        "\n",
        "(4)Part-of-speech tagging: Dealing with the syntactic structure, part-of-speech tagging refers to analyzing and interpreting grammatical units of the words, be they nouns, verbs, adverbs, and so on.\n",
        "\n",
        "(5)Parsing: By and large, parsing also refers to the grammatical analysis of the provided sentence, except here, sentences are assigned a structure to reflect how sentence constituents are related to one another. This is the reason why parsing often results in a sentence-level parse tree.\n",
        "\n",
        "(6)Tokenization: By dividing a sentence into smaller parts or setting sentence boundaries, tokenization allows for easier parsing later on.\n",
        "\n",
        "Semantic approaches\n",
        "\n",
        "Albeit limited in number, semantic approaches are equally significant to natural language processing.\n",
        "\n",
        "(1)Named entity recognition: This method allows to label parts of the text into relevant groups, be they names, places objects, etc. Grammarly, Siri, Alexa, and Google Translate all use named entity recognition as part of natural language processing to understand textual data.\n",
        "\n",
        "(2)Word sense disambiguation: What word sense disambiguation does, humans do on an unconscious level. Some words do not have a single meaning and we, humans, fit them into the context without much effort. For a machine to be able to do the same, it has to identify which ‘sense’ or meaning of the word is triggered in a given context—all thanks to word sense disambiguation.\n",
        "\n",
        "(3)Natural language generation: As inferred, natural language generation (also NLG) is about using input data or databases to conduct semantic analysis and deliver human language text."
      ],
      "metadata": {
        "id": "YSsH3RzqrjVA"
      }
    },
    {
      "cell_type": "markdown",
      "source": [
        "5. Use TextBlob to translate a sentence in English into French, Mandarin, and\n",
        "Hindi?\n",
        "a. Import TextBlob\n",
        "b. Languages are coded as ‘fr’, ‘zh-CN’, ‘hi’\n",
        "c. Translate the following sentence “Who knew translation could be fun” into\n",
        "French, Mandarin, and Hindi"
      ],
      "metadata": {
        "id": "4GjjT9aBuMJ9"
      }
    },
    {
      "cell_type": "code",
      "execution_count": 1,
      "metadata": {
        "colab": {
          "base_uri": "https://localhost:8080/"
        },
        "id": "QMqdIJ243ovh",
        "outputId": "58761230-9fa1-466e-c346-a563725144e5"
      },
      "outputs": [
        {
          "output_type": "stream",
          "name": "stdout",
          "text": [
            "Requirement already satisfied: Textblob in /usr/local/lib/python3.10/dist-packages (0.17.1)\n",
            "Requirement already satisfied: nltk>=3.1 in /usr/local/lib/python3.10/dist-packages (from Textblob) (3.8.1)\n",
            "Requirement already satisfied: click in /usr/local/lib/python3.10/dist-packages (from nltk>=3.1->Textblob) (8.1.7)\n",
            "Requirement already satisfied: joblib in /usr/local/lib/python3.10/dist-packages (from nltk>=3.1->Textblob) (1.4.2)\n",
            "Requirement already satisfied: regex>=2021.8.3 in /usr/local/lib/python3.10/dist-packages (from nltk>=3.1->Textblob) (2024.5.15)\n",
            "Requirement already satisfied: tqdm in /usr/local/lib/python3.10/dist-packages (from nltk>=3.1->Textblob) (4.66.5)\n",
            "French Translation: Qui savait que la traduction pourrait être amusante\n",
            "Mandarin Translation: 谁知道翻译可能很有趣\n",
            "Hindi Translation: कौन जानता था कि अनुवाद मजेदार हो सकता है\n"
          ]
        }
      ],
      "source": [
        "# Install all the required libraries\n",
        "!pip install Textblob\n",
        "from textblob import TextBlob\n",
        "\n",
        "# The sentence to translate\n",
        "sentence = \"Who knew translation could be fun\"\n",
        "\n",
        "# Create a TextBlob object for the sentence\n",
        "blob = TextBlob(sentence)\n",
        "\n",
        "# Translate the sentence to French ('fr'), Mandarin ('zh-CN'), and Hindi ('hi') with from_lang='en'\n",
        "translation_french = blob.translate(from_lang='en', to='fr')\n",
        "translation_mandarin = blob.translate(from_lang='en', to='zh-CN')\n",
        "translation_hindi = blob.translate(from_lang='en', to='hi')\n",
        "\n",
        "# Print the translations\n",
        "print(f\"French Translation: {translation_french}\")\n",
        "print(f\"Mandarin Translation: {translation_mandarin}\")\n",
        "print(f\"Hindi Translation: {translation_hindi}\")"
      ]
    }
  ]
}