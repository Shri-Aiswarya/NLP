{
  "nbformat": 4,
  "nbformat_minor": 0,
  "metadata": {
    "colab": {
      "provenance": [],
      "authorship_tag": "ABX9TyOknbkWASEiFqaUdMDNPxdG",
      "include_colab_link": true
    },
    "kernelspec": {
      "name": "python3",
      "display_name": "Python 3"
    },
    "language_info": {
      "name": "python"
    }
  },
  "cells": [
    {
      "cell_type": "markdown",
      "metadata": {
        "id": "view-in-github",
        "colab_type": "text"
      },
      "source": [
        "<a href=\"https://colab.research.google.com/github/Shri-Aiswarya/NLP/blob/main/NLP_Hw_2.ipynb\" target=\"_parent\"><img src=\"https://colab.research.google.com/assets/colab-badge.svg\" alt=\"Open In Colab\"/></a>"
      ]
    },
    {
      "cell_type": "markdown",
      "source": [
        "1.Make sure you have installed BeautifulSoup and lxml"
      ],
      "metadata": {
        "id": "Q1ddPsk_uhBI"
      }
    },
    {
      "cell_type": "code",
      "execution_count": 1,
      "metadata": {
        "colab": {
          "base_uri": "https://localhost:8080/"
        },
        "id": "GynIBIpvqFro",
        "outputId": "184b8df0-0fad-43ea-8ffd-288c4dc62fe5"
      },
      "outputs": [
        {
          "output_type": "stream",
          "name": "stdout",
          "text": [
            "Requirement already satisfied: beautifulsoup4 in /usr/local/lib/python3.10/dist-packages (4.12.3)\n",
            "Requirement already satisfied: soupsieve>1.2 in /usr/local/lib/python3.10/dist-packages (from beautifulsoup4) (2.6)\n"
          ]
        }
      ],
      "source": [
        "pip install beautifulsoup4"
      ]
    },
    {
      "cell_type": "code",
      "source": [
        "pip install lxml"
      ],
      "metadata": {
        "colab": {
          "base_uri": "https://localhost:8080/"
        },
        "id": "zcPXYm14u367",
        "outputId": "9deb04ae-4fbe-4b08-ddcd-343a5abbc95a"
      },
      "execution_count": 2,
      "outputs": [
        {
          "output_type": "stream",
          "name": "stdout",
          "text": [
            "Requirement already satisfied: lxml in /usr/local/lib/python3.10/dist-packages (4.9.4)\n"
          ]
        }
      ]
    },
    {
      "cell_type": "code",
      "source": [
        "#Importing required llibraries\n",
        "import urllib.request\n",
        "from bs4 import BeautifulSoup"
      ],
      "metadata": {
        "id": "UToUWxhLvS94"
      },
      "execution_count": 3,
      "outputs": []
    },
    {
      "cell_type": "markdown",
      "source": [
        "2.Use the website https://pythonprogramming.net/parsememcparseface/\n",
        "\n",
        "3.Connect to the website using urllib.request"
      ],
      "metadata": {
        "id": "l5fQ3nh6vO13"
      }
    },
    {
      "cell_type": "code",
      "source": [
        "url = \"https://pythonprogramming.net/parsememcparseface/\"\n",
        "response = urllib.request.urlopen(url)"
      ],
      "metadata": {
        "id": "KlABslfyvoRI"
      },
      "execution_count": 5,
      "outputs": []
    },
    {
      "cell_type": "markdown",
      "source": [
        "4.Create an object called ‘soup’ using the source"
      ],
      "metadata": {
        "id": "njKw5-LnwLr1"
      }
    },
    {
      "cell_type": "code",
      "source": [
        "soup = BeautifulSoup(response, 'lxml')"
      ],
      "metadata": {
        "id": "J77BrzUQwNLI"
      },
      "execution_count": 6,
      "outputs": []
    },
    {
      "cell_type": "markdown",
      "source": [
        "5.Print page title, get attributes, values, and beginning navigation. Get specific values."
      ],
      "metadata": {
        "id": "JVCjMZRLxO8e"
      }
    },
    {
      "cell_type": "code",
      "source": [
        "# Print the page title\n",
        "title = soup.title.string\n",
        "print(f\"Page Title: {title}\\n\")\n",
        "\n",
        "# get attributes\n",
        "print(soup.title.name)\n",
        "\n",
        "# get values\n",
        "print(soup.title.string)\n",
        "\n",
        "# beginning navigation\n",
        "print(soup.title.parent.name)\n",
        "\n",
        "# getting specific values\n",
        "print(soup.p)# getting specific values:"
      ],
      "metadata": {
        "colab": {
          "base_uri": "https://localhost:8080/"
        },
        "id": "hC3pi0EKxVJX",
        "outputId": "050a348b-4024-48d0-f561-600fb0afc8d6"
      },
      "execution_count": 7,
      "outputs": [
        {
          "output_type": "stream",
          "name": "stdout",
          "text": [
            "Page Title: Python Programming Tutorials\n",
            "\n",
            "title\n",
            "Python Programming Tutorials\n",
            "head\n",
            "<p class=\"introduction\">Oh, hello! This is a <span style=\"font-size:115%\">wonderful</span> page meant to let you practice web scraping. This page was originally created to help people work with the <a href=\"https://www.crummy.com/software/BeautifulSoup/bs4/doc/\" target=\"blank\"><strong>Beautiful Soup 4</strong></a> library.</p>\n"
          ]
        }
      ]
    },
    {
      "cell_type": "markdown",
      "source": [
        "6.Find all the paragraph instead of just one in the previous query\n",
        "\n",
        "7.You can iterate through them using ‘str(paragraph.text)’"
      ],
      "metadata": {
        "id": "-mtjFPsuzGfM"
      }
    },
    {
      "cell_type": "code",
      "source": [
        "print(\"\\nParagraphs:\")\n",
        "paragraphs = soup.find_all('p')\n",
        "for paragraph in paragraphs:\n",
        "  print(str(paragraph.text))"
      ],
      "metadata": {
        "colab": {
          "base_uri": "https://localhost:8080/"
        },
        "id": "yWgPG5RnzH2H",
        "outputId": "022e69f9-6967-4e1b-d760-14c6fb58fb75"
      },
      "execution_count": 14,
      "outputs": [
        {
          "output_type": "stream",
          "name": "stdout",
          "text": [
            "\n",
            "Paragraphs:\n",
            "Oh, hello! This is a wonderful page meant to let you practice web scraping. This page was originally created to help people work with the Beautiful Soup 4 library.\n",
            "The following table gives some general information for the following programming languages:\n",
            "I think it's clear that, on a scale of 1-10, python is:\n",
            "Javascript (dynamic data) test:\n",
            "y u bad tho?\n",
            "Whᶐt hαppéns now¿\n",
            "sitemap\n",
            "Contact: Harrison@pythonprogramming.net.\n",
            "Programming is a superpower.\n"
          ]
        }
      ]
    },
    {
      "cell_type": "markdown",
      "source": [
        "8.Grab all the links through ‘url.get(‘here)"
      ],
      "metadata": {
        "id": "lbf_esR_zMD3"
      }
    },
    {
      "cell_type": "code",
      "source": [
        "links = soup.find_all('a')\n",
        "print(\"All Links:\")\n",
        "for link in links:\n",
        "  href = link.get('href')\n",
        "  text = link.get_text(strip=True)\n",
        "  print(f\"Text: {text}, URL: {href}\")"
      ],
      "metadata": {
        "colab": {
          "base_uri": "https://localhost:8080/"
        },
        "id": "hO9ABevL0rDe",
        "outputId": "3dbf758a-7dfb-442d-d732-ef40cc5e96e3"
      },
      "execution_count": 25,
      "outputs": [
        {
          "output_type": "stream",
          "name": "stdout",
          "text": [
            "All Links:\n",
            "Text: , URL: /\n",
            "Text: , URL: #\n",
            "Text: Home, URL: /\n",
            "Text: +=1, URL: /+=1/\n",
            "Text: Support the Content, URL: /support/\n",
            "Text: Community, URL: https://goo.gl/7zgAVQ\n",
            "Text: Log in, URL: /login/\n",
            "Text: Sign up, URL: /register/\n",
            "Text: Home, URL: /\n",
            "Text: +=1, URL: /+=1/\n",
            "Text: Support the Content, URL: /support/\n",
            "Text: Community, URL: https://goo.gl/7zgAVQ\n",
            "Text: Log in, URL: /login/\n",
            "Text: Sign up, URL: /register/\n",
            "Text: Beautiful Soup 4, URL: https://www.crummy.com/software/BeautifulSoup/bs4/doc/\n",
            "Text: sitemap, URL: /sitemap.xml\n",
            "Text: Support this Website!, URL: /support-donate/\n",
            "Text: Consulting and Contracting, URL: /consulting/\n",
            "Text: Facebook, URL: https://www.facebook.com/pythonprogramming.net/\n",
            "Text: Twitter, URL: https://twitter.com/sentdex\n",
            "Text: Instagram, URL: https://instagram.com/sentdex\n",
            "Text: Terms and Conditions, URL: /about/tos/\n",
            "Text: Privacy Policy, URL: /about/privacy-policy/\n",
            "Text: Programming is a superpower., URL: https://xkcd.com/353/\n"
          ]
        }
      ]
    },
    {
      "cell_type": "markdown",
      "source": [
        "9.Just grab the text using ‘get_text’"
      ],
      "metadata": {
        "id": "hGhXOL8E1QRd"
      }
    },
    {
      "cell_type": "code",
      "source": [
        "print(\"Full Page Text:\")\n",
        "print(soup.get_text())"
      ],
      "metadata": {
        "colab": {
          "base_uri": "https://localhost:8080/"
        },
        "id": "nxHXfywX1RQN",
        "outputId": "e3558920-d01a-4d6f-9b72-f0a3a358e994"
      },
      "execution_count": 24,
      "outputs": [
        {
          "output_type": "stream",
          "name": "stdout",
          "text": [
            "Full Page Text:\n",
            "\n",
            "\n",
            "\n",
            "\n",
            "Python Programming Tutorials\n",
            "\n",
            "\n",
            "\n",
            "\n",
            "\n",
            "\n",
            "\n",
            "\n",
            "\n",
            "\n",
            "\n",
            "\n",
            "\n",
            "\n",
            "\n",
            "\n",
            "\n",
            "\n",
            "\n",
            "\n",
            "\n",
            "\n",
            "\n",
            "search\n",
            "\n",
            "\n",
            "\n",
            "\n",
            "\n",
            "Home\n",
            "+=1\n",
            "\n",
            "Support the Content\n",
            "Community\n",
            "Log in\n",
            "Sign up\n",
            "\n",
            "\n",
            "\n",
            "\n",
            "\n",
            "\n",
            "\n",
            "Home\n",
            "+=1\n",
            "\n",
            "Support the Content\n",
            "Community\n",
            "Log in\n",
            "Sign up\n",
            "\n",
            "\n",
            "\n",
            "\n",
            "\n",
            "\n",
            "\n",
            "\n",
            "\n",
            "\n",
            "Oh, hello! This is a wonderful page meant to let you practice web scraping. This page was originally created to help people work with the Beautiful Soup 4 library.\n",
            "The following table gives some general information for the following programming languages:\n",
            "\n",
            "Python\n",
            "Pascal\n",
            "Lisp\n",
            "D#\n",
            "Cobol\n",
            "Fortran\n",
            "Haskell\n",
            "\n",
            "\n",
            "\n",
            "Program Name\n",
            "Internet Points\n",
            "Kittens?\n",
            "\n",
            "\n",
            "Python\n",
            "932914021\n",
            "Definitely\n",
            "\n",
            "\n",
            "Pascal\n",
            "532\n",
            "Unlikely\n",
            "\n",
            "\n",
            "Lisp\n",
            "1522\n",
            "Uncertain\n",
            "\n",
            "\n",
            "D#\n",
            "12\n",
            "Possibly\n",
            "\n",
            "\n",
            "Cobol\n",
            "3\n",
            "No.\n",
            "\n",
            "\n",
            "Fortran\n",
            "52124\n",
            "Yes.\n",
            "\n",
            "\n",
            "Haskell\n",
            "24\n",
            "lol.\n",
            "\n",
            "\n",
            "I think it's clear that, on a scale of 1-10, python is:\n",
            "\n",
            "\n",
            "\n",
            "\n",
            "\n",
            "\n",
            "Javascript (dynamic data) test:\n",
            "y u bad tho?\n",
            "\n",
            "\n",
            "Beautiful is better than ugly.\n",
            "Explicit is better than implicit.\n",
            "Simple is better than complex.\n",
            "Complex is better than complicated.\n",
            "Flat is better than nested.\n",
            "Sparse is better than dense.\n",
            "Readability counts.\n",
            "Special cases aren't special enough to break the rules.\n",
            "Although practicality beats purity.\n",
            "Errors should never pass silently.\n",
            "Unless explicitly silenced.\n",
            "In the face of ambiguity, refuse the temptation to guess.\n",
            "There should be one-- and preferably only one --obvious way to do it.\n",
            "Although that way may not be obvious at first unless you're Dutch.\n",
            "Now is better than never.\n",
            "Although never is often better than *right* now.\n",
            "If the implementation is hard to explain, it's a bad idea.\n",
            "If the implementation is easy to explain, it may be a good idea.\n",
            "Namespaces are one honking great idea -- let's do more of those!\n",
            "Whᶐt hαppéns now¿\n",
            "sitemap\n",
            "\n",
            "\n",
            "\n",
            "\n",
            "\n",
            "\n",
            "\n",
            "\n",
            "\n",
            "\n",
            "\n",
            "You've reached the end!\n",
            "Contact: Harrison@pythonprogramming.net.\n",
            "\n",
            "Support this Website!\n",
            "Consulting and Contracting\n",
            "Facebook\n",
            "Twitter\n",
            "Instagram\n",
            "\n",
            "\n",
            "\n",
            "Legal stuff:\n",
            "\n",
            "Terms and Conditions\n",
            "Privacy Policy\n",
            "\n",
            "\n",
            "\n",
            "\n",
            "Programming is a superpower.\n",
            "\n",
            "\n",
            "            © OVER 9000! PythonProgramming.net\n",
            "\n",
            "            \n",
            "\n",
            "\n",
            "\n",
            "\n"
          ]
        }
      ]
    }
  ]
}